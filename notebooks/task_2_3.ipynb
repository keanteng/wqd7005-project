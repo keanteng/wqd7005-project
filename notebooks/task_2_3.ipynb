{
  "cells": [
    {
      "cell_type": "markdown",
      "id": "6edbb910",
      "metadata": {
        "id": "6edbb910"
      },
      "source": [
        "## 2.1 Entity Name Recognition with BERT\n",
        "\n",
        "In this section, we will train a BERT model for the task of entity name recognition. We will use the `transformers` library from Hugging Face, which provides pre-trained models and tokenizers for various NLP tasks."
      ]
    },
    {
      "cell_type": "code",
      "execution_count": 2,
      "id": "aa74ad6a",
      "metadata": {
        "colab": {
          "base_uri": "https://localhost:8080/",
          "height": 481
        },
        "id": "aa74ad6a",
        "outputId": "bd23cf62-ab07-4b25-fb0a-9efd22c0cb6f"
      },
      "outputs": [
        {
          "name": "stderr",
          "output_type": "stream",
          "text": [
            "[nltk_data] Downloading package punkt_tab to /root/nltk_data...\n",
            "[nltk_data]   Package punkt_tab is already up-to-date!\n"
          ]
        },
        {
          "data": {
            "application/vnd.google.colaboratory.intrinsic+json": {
              "type": "dataframe"
            },
            "text/html": [
              "\n",
              "  <div id=\"df-50310356-5e67-4995-b109-a491e912a3ac\" class=\"colab-df-container\">\n",
              "    <div>\n",
              "<style scoped>\n",
              "    .dataframe tbody tr th:only-of-type {\n",
              "        vertical-align: middle;\n",
              "    }\n",
              "\n",
              "    .dataframe tbody tr th {\n",
              "        vertical-align: top;\n",
              "    }\n",
              "\n",
              "    .dataframe thead th {\n",
              "        text-align: right;\n",
              "    }\n",
              "</style>\n",
              "<table border=\"1\" class=\"dataframe\">\n",
              "  <thead>\n",
              "    <tr style=\"text-align: right;\">\n",
              "      <th></th>\n",
              "      <th>patient_id</th>\n",
              "      <th>age</th>\n",
              "      <th>gender</th>\n",
              "      <th>medical_history</th>\n",
              "      <th>deterioration_label</th>\n",
              "      <th>timestamp</th>\n",
              "      <th>hear_rate</th>\n",
              "      <th>blood_pressure_sys</th>\n",
              "      <th>blood_pressure_dia</th>\n",
              "      <th>oxygen_saturation</th>\n",
              "      <th>...</th>\n",
              "      <th>has_cancer</th>\n",
              "      <th>has_heart attack</th>\n",
              "      <th>has_heart failure</th>\n",
              "      <th>has_copd</th>\n",
              "      <th>has_asthma</th>\n",
              "      <th>has_alzheimer</th>\n",
              "      <th>has_dementia</th>\n",
              "      <th>fatigue_level</th>\n",
              "      <th>activity_level</th>\n",
              "      <th>mental_health_level</th>\n",
              "    </tr>\n",
              "  </thead>\n",
              "  <tbody>\n",
              "    <tr>\n",
              "      <th>0</th>\n",
              "      <td>9b04b</td>\n",
              "      <td>65</td>\n",
              "      <td>Male</td>\n",
              "      <td>History of hypertension and type 2 diabetes.</td>\n",
              "      <td>True</td>\n",
              "      <td>2023-10-27T10:00:00Z</td>\n",
              "      <td>95.5</td>\n",
              "      <td>160.2</td>\n",
              "      <td>98.7</td>\n",
              "      <td>90.3</td>\n",
              "      <td>...</td>\n",
              "      <td>0</td>\n",
              "      <td>0</td>\n",
              "      <td>0</td>\n",
              "      <td>0</td>\n",
              "      <td>0</td>\n",
              "      <td>0</td>\n",
              "      <td>0</td>\n",
              "      <td>5</td>\n",
              "      <td>1</td>\n",
              "      <td>1</td>\n",
              "    </tr>\n",
              "    <tr>\n",
              "      <th>1</th>\n",
              "      <td>bffd5</td>\n",
              "      <td>45</td>\n",
              "      <td>Female</td>\n",
              "      <td>No significant medical history.</td>\n",
              "      <td>False</td>\n",
              "      <td>2023-10-27T10:05:00Z</td>\n",
              "      <td>70.2</td>\n",
              "      <td>120.5</td>\n",
              "      <td>75.0</td>\n",
              "      <td>98.5</td>\n",
              "      <td>...</td>\n",
              "      <td>0</td>\n",
              "      <td>0</td>\n",
              "      <td>0</td>\n",
              "      <td>0</td>\n",
              "      <td>0</td>\n",
              "      <td>0</td>\n",
              "      <td>0</td>\n",
              "      <td>2</td>\n",
              "      <td>4</td>\n",
              "      <td>4</td>\n",
              "    </tr>\n",
              "    <tr>\n",
              "      <th>2</th>\n",
              "      <td>fb35e</td>\n",
              "      <td>78</td>\n",
              "      <td>Male</td>\n",
              "      <td>Chronic obstructive pulmonary disease (COPD), ...</td>\n",
              "      <td>True</td>\n",
              "      <td>2023-10-27T10:10:00Z</td>\n",
              "      <td>105.0</td>\n",
              "      <td>150.0</td>\n",
              "      <td>90.0</td>\n",
              "      <td>88.0</td>\n",
              "      <td>...</td>\n",
              "      <td>0</td>\n",
              "      <td>1</td>\n",
              "      <td>0</td>\n",
              "      <td>1</td>\n",
              "      <td>0</td>\n",
              "      <td>0</td>\n",
              "      <td>0</td>\n",
              "      <td>5</td>\n",
              "      <td>2</td>\n",
              "      <td>1</td>\n",
              "    </tr>\n",
              "    <tr>\n",
              "      <th>3</th>\n",
              "      <td>1e30e</td>\n",
              "      <td>30</td>\n",
              "      <td>Female</td>\n",
              "      <td>Mild asthma.</td>\n",
              "      <td>False</td>\n",
              "      <td>2023-10-27T10:15:00Z</td>\n",
              "      <td>65.0</td>\n",
              "      <td>110.0</td>\n",
              "      <td>70.0</td>\n",
              "      <td>99.0</td>\n",
              "      <td>...</td>\n",
              "      <td>0</td>\n",
              "      <td>0</td>\n",
              "      <td>0</td>\n",
              "      <td>0</td>\n",
              "      <td>1</td>\n",
              "      <td>0</td>\n",
              "      <td>0</td>\n",
              "      <td>1</td>\n",
              "      <td>5</td>\n",
              "      <td>4</td>\n",
              "    </tr>\n",
              "    <tr>\n",
              "      <th>4</th>\n",
              "      <td>116a4</td>\n",
              "      <td>55</td>\n",
              "      <td>Male</td>\n",
              "      <td>High cholesterol.</td>\n",
              "      <td>False</td>\n",
              "      <td>2023-10-27T10:20:00Z</td>\n",
              "      <td>75.5</td>\n",
              "      <td>135.0</td>\n",
              "      <td>85.0</td>\n",
              "      <td>97.0</td>\n",
              "      <td>...</td>\n",
              "      <td>0</td>\n",
              "      <td>0</td>\n",
              "      <td>0</td>\n",
              "      <td>0</td>\n",
              "      <td>0</td>\n",
              "      <td>0</td>\n",
              "      <td>0</td>\n",
              "      <td>3</td>\n",
              "      <td>3</td>\n",
              "      <td>3</td>\n",
              "    </tr>\n",
              "  </tbody>\n",
              "</table>\n",
              "<p>5 rows × 29 columns</p>\n",
              "</div>\n",
              "    <div class=\"colab-df-buttons\">\n",
              "\n",
              "  <div class=\"colab-df-container\">\n",
              "    <button class=\"colab-df-convert\" onclick=\"convertToInteractive('df-50310356-5e67-4995-b109-a491e912a3ac')\"\n",
              "            title=\"Convert this dataframe to an interactive table.\"\n",
              "            style=\"display:none;\">\n",
              "\n",
              "  <svg xmlns=\"http://www.w3.org/2000/svg\" height=\"24px\" viewBox=\"0 -960 960 960\">\n",
              "    <path d=\"M120-120v-720h720v720H120Zm60-500h600v-160H180v160Zm220 220h160v-160H400v160Zm0 220h160v-160H400v160ZM180-400h160v-160H180v160Zm440 0h160v-160H620v160ZM180-180h160v-160H180v160Zm440 0h160v-160H620v160Z\"/>\n",
              "  </svg>\n",
              "    </button>\n",
              "\n",
              "  <style>\n",
              "    .colab-df-container {\n",
              "      display:flex;\n",
              "      gap: 12px;\n",
              "    }\n",
              "\n",
              "    .colab-df-convert {\n",
              "      background-color: #E8F0FE;\n",
              "      border: none;\n",
              "      border-radius: 50%;\n",
              "      cursor: pointer;\n",
              "      display: none;\n",
              "      fill: #1967D2;\n",
              "      height: 32px;\n",
              "      padding: 0 0 0 0;\n",
              "      width: 32px;\n",
              "    }\n",
              "\n",
              "    .colab-df-convert:hover {\n",
              "      background-color: #E2EBFA;\n",
              "      box-shadow: 0px 1px 2px rgba(60, 64, 67, 0.3), 0px 1px 3px 1px rgba(60, 64, 67, 0.15);\n",
              "      fill: #174EA6;\n",
              "    }\n",
              "\n",
              "    .colab-df-buttons div {\n",
              "      margin-bottom: 4px;\n",
              "    }\n",
              "\n",
              "    [theme=dark] .colab-df-convert {\n",
              "      background-color: #3B4455;\n",
              "      fill: #D2E3FC;\n",
              "    }\n",
              "\n",
              "    [theme=dark] .colab-df-convert:hover {\n",
              "      background-color: #434B5C;\n",
              "      box-shadow: 0px 1px 3px 1px rgba(0, 0, 0, 0.15);\n",
              "      filter: drop-shadow(0px 1px 2px rgba(0, 0, 0, 0.3));\n",
              "      fill: #FFFFFF;\n",
              "    }\n",
              "  </style>\n",
              "\n",
              "    <script>\n",
              "      const buttonEl =\n",
              "        document.querySelector('#df-50310356-5e67-4995-b109-a491e912a3ac button.colab-df-convert');\n",
              "      buttonEl.style.display =\n",
              "        google.colab.kernel.accessAllowed ? 'block' : 'none';\n",
              "\n",
              "      async function convertToInteractive(key) {\n",
              "        const element = document.querySelector('#df-50310356-5e67-4995-b109-a491e912a3ac');\n",
              "        const dataTable =\n",
              "          await google.colab.kernel.invokeFunction('convertToInteractive',\n",
              "                                                    [key], {});\n",
              "        if (!dataTable) return;\n",
              "\n",
              "        const docLinkHtml = 'Like what you see? Visit the ' +\n",
              "          '<a target=\"_blank\" href=https://colab.research.google.com/notebooks/data_table.ipynb>data table notebook</a>'\n",
              "          + ' to learn more about interactive tables.';\n",
              "        element.innerHTML = '';\n",
              "        dataTable['output_type'] = 'display_data';\n",
              "        await google.colab.output.renderOutput(dataTable, element);\n",
              "        const docLink = document.createElement('div');\n",
              "        docLink.innerHTML = docLinkHtml;\n",
              "        element.appendChild(docLink);\n",
              "      }\n",
              "    </script>\n",
              "  </div>\n",
              "\n",
              "\n",
              "    <div id=\"df-567a0db6-a205-4b8e-8c3a-161881d0136d\">\n",
              "      <button class=\"colab-df-quickchart\" onclick=\"quickchart('df-567a0db6-a205-4b8e-8c3a-161881d0136d')\"\n",
              "                title=\"Suggest charts\"\n",
              "                style=\"display:none;\">\n",
              "\n",
              "<svg xmlns=\"http://www.w3.org/2000/svg\" height=\"24px\"viewBox=\"0 0 24 24\"\n",
              "     width=\"24px\">\n",
              "    <g>\n",
              "        <path d=\"M19 3H5c-1.1 0-2 .9-2 2v14c0 1.1.9 2 2 2h14c1.1 0 2-.9 2-2V5c0-1.1-.9-2-2-2zM9 17H7v-7h2v7zm4 0h-2V7h2v10zm4 0h-2v-4h2v4z\"/>\n",
              "    </g>\n",
              "</svg>\n",
              "      </button>\n",
              "\n",
              "<style>\n",
              "  .colab-df-quickchart {\n",
              "      --bg-color: #E8F0FE;\n",
              "      --fill-color: #1967D2;\n",
              "      --hover-bg-color: #E2EBFA;\n",
              "      --hover-fill-color: #174EA6;\n",
              "      --disabled-fill-color: #AAA;\n",
              "      --disabled-bg-color: #DDD;\n",
              "  }\n",
              "\n",
              "  [theme=dark] .colab-df-quickchart {\n",
              "      --bg-color: #3B4455;\n",
              "      --fill-color: #D2E3FC;\n",
              "      --hover-bg-color: #434B5C;\n",
              "      --hover-fill-color: #FFFFFF;\n",
              "      --disabled-bg-color: #3B4455;\n",
              "      --disabled-fill-color: #666;\n",
              "  }\n",
              "\n",
              "  .colab-df-quickchart {\n",
              "    background-color: var(--bg-color);\n",
              "    border: none;\n",
              "    border-radius: 50%;\n",
              "    cursor: pointer;\n",
              "    display: none;\n",
              "    fill: var(--fill-color);\n",
              "    height: 32px;\n",
              "    padding: 0;\n",
              "    width: 32px;\n",
              "  }\n",
              "\n",
              "  .colab-df-quickchart:hover {\n",
              "    background-color: var(--hover-bg-color);\n",
              "    box-shadow: 0 1px 2px rgba(60, 64, 67, 0.3), 0 1px 3px 1px rgba(60, 64, 67, 0.15);\n",
              "    fill: var(--button-hover-fill-color);\n",
              "  }\n",
              "\n",
              "  .colab-df-quickchart-complete:disabled,\n",
              "  .colab-df-quickchart-complete:disabled:hover {\n",
              "    background-color: var(--disabled-bg-color);\n",
              "    fill: var(--disabled-fill-color);\n",
              "    box-shadow: none;\n",
              "  }\n",
              "\n",
              "  .colab-df-spinner {\n",
              "    border: 2px solid var(--fill-color);\n",
              "    border-color: transparent;\n",
              "    border-bottom-color: var(--fill-color);\n",
              "    animation:\n",
              "      spin 1s steps(1) infinite;\n",
              "  }\n",
              "\n",
              "  @keyframes spin {\n",
              "    0% {\n",
              "      border-color: transparent;\n",
              "      border-bottom-color: var(--fill-color);\n",
              "      border-left-color: var(--fill-color);\n",
              "    }\n",
              "    20% {\n",
              "      border-color: transparent;\n",
              "      border-left-color: var(--fill-color);\n",
              "      border-top-color: var(--fill-color);\n",
              "    }\n",
              "    30% {\n",
              "      border-color: transparent;\n",
              "      border-left-color: var(--fill-color);\n",
              "      border-top-color: var(--fill-color);\n",
              "      border-right-color: var(--fill-color);\n",
              "    }\n",
              "    40% {\n",
              "      border-color: transparent;\n",
              "      border-right-color: var(--fill-color);\n",
              "      border-top-color: var(--fill-color);\n",
              "    }\n",
              "    60% {\n",
              "      border-color: transparent;\n",
              "      border-right-color: var(--fill-color);\n",
              "    }\n",
              "    80% {\n",
              "      border-color: transparent;\n",
              "      border-right-color: var(--fill-color);\n",
              "      border-bottom-color: var(--fill-color);\n",
              "    }\n",
              "    90% {\n",
              "      border-color: transparent;\n",
              "      border-bottom-color: var(--fill-color);\n",
              "    }\n",
              "  }\n",
              "</style>\n",
              "\n",
              "      <script>\n",
              "        async function quickchart(key) {\n",
              "          const quickchartButtonEl =\n",
              "            document.querySelector('#' + key + ' button');\n",
              "          quickchartButtonEl.disabled = true;  // To prevent multiple clicks.\n",
              "          quickchartButtonEl.classList.add('colab-df-spinner');\n",
              "          try {\n",
              "            const charts = await google.colab.kernel.invokeFunction(\n",
              "                'suggestCharts', [key], {});\n",
              "          } catch (error) {\n",
              "            console.error('Error during call to suggestCharts:', error);\n",
              "          }\n",
              "          quickchartButtonEl.classList.remove('colab-df-spinner');\n",
              "          quickchartButtonEl.classList.add('colab-df-quickchart-complete');\n",
              "        }\n",
              "        (() => {\n",
              "          let quickchartButtonEl =\n",
              "            document.querySelector('#df-567a0db6-a205-4b8e-8c3a-161881d0136d button');\n",
              "          quickchartButtonEl.style.display =\n",
              "            google.colab.kernel.accessAllowed ? 'block' : 'none';\n",
              "        })();\n",
              "      </script>\n",
              "    </div>\n",
              "\n",
              "    </div>\n",
              "  </div>\n"
            ],
            "text/plain": [
              "  patient_id  age  gender                                    medical_history  \\\n",
              "0      9b04b   65    Male       History of hypertension and type 2 diabetes.   \n",
              "1      bffd5   45  Female                    No significant medical history.   \n",
              "2      fb35e   78    Male  Chronic obstructive pulmonary disease (COPD), ...   \n",
              "3      1e30e   30  Female                                       Mild asthma.   \n",
              "4      116a4   55    Male                                  High cholesterol.   \n",
              "\n",
              "   deterioration_label             timestamp  hear_rate  blood_pressure_sys  \\\n",
              "0                 True  2023-10-27T10:00:00Z       95.5               160.2   \n",
              "1                False  2023-10-27T10:05:00Z       70.2               120.5   \n",
              "2                 True  2023-10-27T10:10:00Z      105.0               150.0   \n",
              "3                False  2023-10-27T10:15:00Z       65.0               110.0   \n",
              "4                False  2023-10-27T10:20:00Z       75.5               135.0   \n",
              "\n",
              "   blood_pressure_dia  oxygen_saturation  ...  has_cancer  has_heart attack  \\\n",
              "0                98.7               90.3  ...           0                 0   \n",
              "1                75.0               98.5  ...           0                 0   \n",
              "2                90.0               88.0  ...           0                 1   \n",
              "3                70.0               99.0  ...           0                 0   \n",
              "4                85.0               97.0  ...           0                 0   \n",
              "\n",
              "  has_heart failure has_copd has_asthma has_alzheimer  has_dementia  \\\n",
              "0                 0        0          0             0             0   \n",
              "1                 0        0          0             0             0   \n",
              "2                 0        1          0             0             0   \n",
              "3                 0        0          1             0             0   \n",
              "4                 0        0          0             0             0   \n",
              "\n",
              "   fatigue_level  activity_level  mental_health_level  \n",
              "0              5               1                    1  \n",
              "1              2               4                    4  \n",
              "2              5               2                    1  \n",
              "3              1               5                    4  \n",
              "4              3               3                    3  \n",
              "\n",
              "[5 rows x 29 columns]"
            ]
          },
          "metadata": {},
          "output_type": "display_data"
        }
      ],
      "source": [
        "import pandas as pd\n",
        "import warnings\n",
        "import ast\n",
        "import nltk\n",
        "import numpy as np\n",
        "from transformers import AutoTokenizer\n",
        "\n",
        "# suppress warnings\n",
        "warnings.filterwarnings('ignore')\n",
        "warnings.simplefilter('ignore')\n",
        "\n",
        "# download the punkt tokenizer\n",
        "nltk.download('punkt_tab')\n",
        "\n",
        "# load the processed data\n",
        "df = pd.read_csv('patients_with_ratings.csv')\n",
        "\n",
        "# preview the data\n",
        "display(df.head())"
      ]
    },
    {
      "cell_type": "markdown",
      "id": "17e8aef7",
      "metadata": {
        "id": "17e8aef7",
        "vscode": {
          "languageId": "plaintext"
        }
      },
      "source": [
        "### 2.1.1 Data Preprocessing\n",
        "\n",
        "We will need to prepare our data for training so that the disease names are labeled correctly. We will use the `transformers` library to tokenize our text and create the necessary input format for BERT."
      ]
    },
    {
      "cell_type": "code",
      "execution_count": 3,
      "id": "f7a84746",
      "metadata": {
        "colab": {
          "base_uri": "https://localhost:8080/",
          "height": 206
        },
        "id": "f7a84746",
        "outputId": "957ab2c6-a2c5-44bf-9069-c8f5103e739a"
      },
      "outputs": [
        {
          "data": {
            "application/vnd.google.colaboratory.intrinsic+json": {
              "summary": "{\n  \"name\": \"display(df\",\n  \"rows\": 5,\n  \"fields\": [\n    {\n      \"column\": \"medical_history\",\n      \"properties\": {\n        \"dtype\": \"string\",\n        \"num_unique_values\": 5,\n        \"samples\": [\n          \"No significant medical history.\",\n          \"High cholesterol.\",\n          \"Chronic obstructive pulmonary disease (COPD), previous heart attack.\"\n        ],\n        \"semantic_type\": \"\",\n        \"description\": \"\"\n      }\n    },\n    {\n      \"column\": \"extracted_diseases\",\n      \"properties\": {\n        \"dtype\": \"string\",\n        \"num_unique_values\": 4,\n        \"samples\": [\n          \"[]\",\n          \"['asthma']\",\n          \"['hypertension', 'type 2 diabetes', 'diabetes']\"\n        ],\n        \"semantic_type\": \"\",\n        \"description\": \"\"\n      }\n    }\n  ]\n}",
              "type": "dataframe"
            },
            "text/html": [
              "\n",
              "  <div id=\"df-deb48915-8951-4cba-a5fb-ca07809e3856\" class=\"colab-df-container\">\n",
              "    <div>\n",
              "<style scoped>\n",
              "    .dataframe tbody tr th:only-of-type {\n",
              "        vertical-align: middle;\n",
              "    }\n",
              "\n",
              "    .dataframe tbody tr th {\n",
              "        vertical-align: top;\n",
              "    }\n",
              "\n",
              "    .dataframe thead th {\n",
              "        text-align: right;\n",
              "    }\n",
              "</style>\n",
              "<table border=\"1\" class=\"dataframe\">\n",
              "  <thead>\n",
              "    <tr style=\"text-align: right;\">\n",
              "      <th></th>\n",
              "      <th>medical_history</th>\n",
              "      <th>extracted_diseases</th>\n",
              "    </tr>\n",
              "  </thead>\n",
              "  <tbody>\n",
              "    <tr>\n",
              "      <th>0</th>\n",
              "      <td>History of hypertension and type 2 diabetes.</td>\n",
              "      <td>['hypertension', 'type 2 diabetes', 'diabetes']</td>\n",
              "    </tr>\n",
              "    <tr>\n",
              "      <th>1</th>\n",
              "      <td>No significant medical history.</td>\n",
              "      <td>[]</td>\n",
              "    </tr>\n",
              "    <tr>\n",
              "      <th>2</th>\n",
              "      <td>Chronic obstructive pulmonary disease (COPD), ...</td>\n",
              "      <td>['Chronic obstructive pulmonary disease', 'COP...</td>\n",
              "    </tr>\n",
              "    <tr>\n",
              "      <th>3</th>\n",
              "      <td>Mild asthma.</td>\n",
              "      <td>['asthma']</td>\n",
              "    </tr>\n",
              "    <tr>\n",
              "      <th>4</th>\n",
              "      <td>High cholesterol.</td>\n",
              "      <td>[]</td>\n",
              "    </tr>\n",
              "  </tbody>\n",
              "</table>\n",
              "</div>\n",
              "    <div class=\"colab-df-buttons\">\n",
              "\n",
              "  <div class=\"colab-df-container\">\n",
              "    <button class=\"colab-df-convert\" onclick=\"convertToInteractive('df-deb48915-8951-4cba-a5fb-ca07809e3856')\"\n",
              "            title=\"Convert this dataframe to an interactive table.\"\n",
              "            style=\"display:none;\">\n",
              "\n",
              "  <svg xmlns=\"http://www.w3.org/2000/svg\" height=\"24px\" viewBox=\"0 -960 960 960\">\n",
              "    <path d=\"M120-120v-720h720v720H120Zm60-500h600v-160H180v160Zm220 220h160v-160H400v160Zm0 220h160v-160H400v160ZM180-400h160v-160H180v160Zm440 0h160v-160H620v160ZM180-180h160v-160H180v160Zm440 0h160v-160H620v160Z\"/>\n",
              "  </svg>\n",
              "    </button>\n",
              "\n",
              "  <style>\n",
              "    .colab-df-container {\n",
              "      display:flex;\n",
              "      gap: 12px;\n",
              "    }\n",
              "\n",
              "    .colab-df-convert {\n",
              "      background-color: #E8F0FE;\n",
              "      border: none;\n",
              "      border-radius: 50%;\n",
              "      cursor: pointer;\n",
              "      display: none;\n",
              "      fill: #1967D2;\n",
              "      height: 32px;\n",
              "      padding: 0 0 0 0;\n",
              "      width: 32px;\n",
              "    }\n",
              "\n",
              "    .colab-df-convert:hover {\n",
              "      background-color: #E2EBFA;\n",
              "      box-shadow: 0px 1px 2px rgba(60, 64, 67, 0.3), 0px 1px 3px 1px rgba(60, 64, 67, 0.15);\n",
              "      fill: #174EA6;\n",
              "    }\n",
              "\n",
              "    .colab-df-buttons div {\n",
              "      margin-bottom: 4px;\n",
              "    }\n",
              "\n",
              "    [theme=dark] .colab-df-convert {\n",
              "      background-color: #3B4455;\n",
              "      fill: #D2E3FC;\n",
              "    }\n",
              "\n",
              "    [theme=dark] .colab-df-convert:hover {\n",
              "      background-color: #434B5C;\n",
              "      box-shadow: 0px 1px 3px 1px rgba(0, 0, 0, 0.15);\n",
              "      filter: drop-shadow(0px 1px 2px rgba(0, 0, 0, 0.3));\n",
              "      fill: #FFFFFF;\n",
              "    }\n",
              "  </style>\n",
              "\n",
              "    <script>\n",
              "      const buttonEl =\n",
              "        document.querySelector('#df-deb48915-8951-4cba-a5fb-ca07809e3856 button.colab-df-convert');\n",
              "      buttonEl.style.display =\n",
              "        google.colab.kernel.accessAllowed ? 'block' : 'none';\n",
              "\n",
              "      async function convertToInteractive(key) {\n",
              "        const element = document.querySelector('#df-deb48915-8951-4cba-a5fb-ca07809e3856');\n",
              "        const dataTable =\n",
              "          await google.colab.kernel.invokeFunction('convertToInteractive',\n",
              "                                                    [key], {});\n",
              "        if (!dataTable) return;\n",
              "\n",
              "        const docLinkHtml = 'Like what you see? Visit the ' +\n",
              "          '<a target=\"_blank\" href=https://colab.research.google.com/notebooks/data_table.ipynb>data table notebook</a>'\n",
              "          + ' to learn more about interactive tables.';\n",
              "        element.innerHTML = '';\n",
              "        dataTable['output_type'] = 'display_data';\n",
              "        await google.colab.output.renderOutput(dataTable, element);\n",
              "        const docLink = document.createElement('div');\n",
              "        docLink.innerHTML = docLinkHtml;\n",
              "        element.appendChild(docLink);\n",
              "      }\n",
              "    </script>\n",
              "  </div>\n",
              "\n",
              "\n",
              "    <div id=\"df-5d9f077b-7056-40ee-934c-2866b8c8161f\">\n",
              "      <button class=\"colab-df-quickchart\" onclick=\"quickchart('df-5d9f077b-7056-40ee-934c-2866b8c8161f')\"\n",
              "                title=\"Suggest charts\"\n",
              "                style=\"display:none;\">\n",
              "\n",
              "<svg xmlns=\"http://www.w3.org/2000/svg\" height=\"24px\"viewBox=\"0 0 24 24\"\n",
              "     width=\"24px\">\n",
              "    <g>\n",
              "        <path d=\"M19 3H5c-1.1 0-2 .9-2 2v14c0 1.1.9 2 2 2h14c1.1 0 2-.9 2-2V5c0-1.1-.9-2-2-2zM9 17H7v-7h2v7zm4 0h-2V7h2v10zm4 0h-2v-4h2v4z\"/>\n",
              "    </g>\n",
              "</svg>\n",
              "      </button>\n",
              "\n",
              "<style>\n",
              "  .colab-df-quickchart {\n",
              "      --bg-color: #E8F0FE;\n",
              "      --fill-color: #1967D2;\n",
              "      --hover-bg-color: #E2EBFA;\n",
              "      --hover-fill-color: #174EA6;\n",
              "      --disabled-fill-color: #AAA;\n",
              "      --disabled-bg-color: #DDD;\n",
              "  }\n",
              "\n",
              "  [theme=dark] .colab-df-quickchart {\n",
              "      --bg-color: #3B4455;\n",
              "      --fill-color: #D2E3FC;\n",
              "      --hover-bg-color: #434B5C;\n",
              "      --hover-fill-color: #FFFFFF;\n",
              "      --disabled-bg-color: #3B4455;\n",
              "      --disabled-fill-color: #666;\n",
              "  }\n",
              "\n",
              "  .colab-df-quickchart {\n",
              "    background-color: var(--bg-color);\n",
              "    border: none;\n",
              "    border-radius: 50%;\n",
              "    cursor: pointer;\n",
              "    display: none;\n",
              "    fill: var(--fill-color);\n",
              "    height: 32px;\n",
              "    padding: 0;\n",
              "    width: 32px;\n",
              "  }\n",
              "\n",
              "  .colab-df-quickchart:hover {\n",
              "    background-color: var(--hover-bg-color);\n",
              "    box-shadow: 0 1px 2px rgba(60, 64, 67, 0.3), 0 1px 3px 1px rgba(60, 64, 67, 0.15);\n",
              "    fill: var(--button-hover-fill-color);\n",
              "  }\n",
              "\n",
              "  .colab-df-quickchart-complete:disabled,\n",
              "  .colab-df-quickchart-complete:disabled:hover {\n",
              "    background-color: var(--disabled-bg-color);\n",
              "    fill: var(--disabled-fill-color);\n",
              "    box-shadow: none;\n",
              "  }\n",
              "\n",
              "  .colab-df-spinner {\n",
              "    border: 2px solid var(--fill-color);\n",
              "    border-color: transparent;\n",
              "    border-bottom-color: var(--fill-color);\n",
              "    animation:\n",
              "      spin 1s steps(1) infinite;\n",
              "  }\n",
              "\n",
              "  @keyframes spin {\n",
              "    0% {\n",
              "      border-color: transparent;\n",
              "      border-bottom-color: var(--fill-color);\n",
              "      border-left-color: var(--fill-color);\n",
              "    }\n",
              "    20% {\n",
              "      border-color: transparent;\n",
              "      border-left-color: var(--fill-color);\n",
              "      border-top-color: var(--fill-color);\n",
              "    }\n",
              "    30% {\n",
              "      border-color: transparent;\n",
              "      border-left-color: var(--fill-color);\n",
              "      border-top-color: var(--fill-color);\n",
              "      border-right-color: var(--fill-color);\n",
              "    }\n",
              "    40% {\n",
              "      border-color: transparent;\n",
              "      border-right-color: var(--fill-color);\n",
              "      border-top-color: var(--fill-color);\n",
              "    }\n",
              "    60% {\n",
              "      border-color: transparent;\n",
              "      border-right-color: var(--fill-color);\n",
              "    }\n",
              "    80% {\n",
              "      border-color: transparent;\n",
              "      border-right-color: var(--fill-color);\n",
              "      border-bottom-color: var(--fill-color);\n",
              "    }\n",
              "    90% {\n",
              "      border-color: transparent;\n",
              "      border-bottom-color: var(--fill-color);\n",
              "    }\n",
              "  }\n",
              "</style>\n",
              "\n",
              "      <script>\n",
              "        async function quickchart(key) {\n",
              "          const quickchartButtonEl =\n",
              "            document.querySelector('#' + key + ' button');\n",
              "          quickchartButtonEl.disabled = true;  // To prevent multiple clicks.\n",
              "          quickchartButtonEl.classList.add('colab-df-spinner');\n",
              "          try {\n",
              "            const charts = await google.colab.kernel.invokeFunction(\n",
              "                'suggestCharts', [key], {});\n",
              "          } catch (error) {\n",
              "            console.error('Error during call to suggestCharts:', error);\n",
              "          }\n",
              "          quickchartButtonEl.classList.remove('colab-df-spinner');\n",
              "          quickchartButtonEl.classList.add('colab-df-quickchart-complete');\n",
              "        }\n",
              "        (() => {\n",
              "          let quickchartButtonEl =\n",
              "            document.querySelector('#df-5d9f077b-7056-40ee-934c-2866b8c8161f button');\n",
              "          quickchartButtonEl.style.display =\n",
              "            google.colab.kernel.accessAllowed ? 'block' : 'none';\n",
              "        })();\n",
              "      </script>\n",
              "    </div>\n",
              "\n",
              "    </div>\n",
              "  </div>\n"
            ],
            "text/plain": [
              "                                     medical_history  \\\n",
              "0       History of hypertension and type 2 diabetes.   \n",
              "1                    No significant medical history.   \n",
              "2  Chronic obstructive pulmonary disease (COPD), ...   \n",
              "3                                       Mild asthma.   \n",
              "4                                  High cholesterol.   \n",
              "\n",
              "                                  extracted_diseases  \n",
              "0    ['hypertension', 'type 2 diabetes', 'diabetes']  \n",
              "1                                                 []  \n",
              "2  ['Chronic obstructive pulmonary disease', 'COP...  \n",
              "3                                         ['asthma']  \n",
              "4                                                 []  "
            ]
          },
          "metadata": {},
          "output_type": "display_data"
        }
      ],
      "source": [
        "# select the necessary columns\n",
        "df = df[['medical_history', 'extracted_diseases']]\n",
        "\n",
        "# preview the data\n",
        "display(df.head())"
      ]
    },
    {
      "cell_type": "code",
      "execution_count": 4,
      "id": "a93a404a",
      "metadata": {
        "id": "a93a404a"
      },
      "outputs": [],
      "source": [
        "# Convert string representation of list to actual list\n",
        "df['extracted_diseases'] = df['extracted_diseases'].apply(lambda x: ast.literal_eval(x) if isinstance(x, str) else x)"
      ]
    },
    {
      "cell_type": "markdown",
      "id": "c3bd1a82",
      "metadata": {
        "id": "c3bd1a82"
      },
      "source": [
        "Create BIO tagging schema for NER"
      ]
    },
    {
      "cell_type": "code",
      "execution_count": 5,
      "id": "e16cc19f",
      "metadata": {
        "colab": {
          "base_uri": "https://localhost:8080/",
          "height": 225
        },
        "id": "e16cc19f",
        "outputId": "afce4033-7e3e-42ca-df7b-67af61af953d"
      },
      "outputs": [
        {
          "data": {
            "text/plain": [
              "[('Chronic', 'B-DISEASE'),\n",
              " ('obstructive', 'I-DISEASE'),\n",
              " ('pulmonary', 'I-DISEASE'),\n",
              " ('disease', 'I-DISEASE'),\n",
              " ('(', 'O'),\n",
              " ('COPD', 'B-DISEASE'),\n",
              " (')', 'O'),\n",
              " (',', 'O'),\n",
              " ('previous', 'O'),\n",
              " ('heart', 'B-DISEASE'),\n",
              " ('attack', 'I-DISEASE'),\n",
              " ('.', 'O')]"
            ]
          },
          "metadata": {},
          "output_type": "display_data"
        }
      ],
      "source": [
        "def create_bio_tags(text, entities):\n",
        "    \"\"\"Create BIO tags for a given text and its entities\"\"\"\n",
        "    tokens = nltk.word_tokenize(text)\n",
        "    tags = ['O'] * len(tokens)\n",
        "\n",
        "    if not entities or entities == []:\n",
        "        return list(zip(tokens, tags))\n",
        "\n",
        "    # Sort entities by length (descending) to prioritize longer matches\n",
        "    # This prevents shorter entities contained in longer ones from being tagged separately\n",
        "    sorted_entities = sorted(entities, key=len, reverse=True)\n",
        "\n",
        "    for entity in sorted_entities:\n",
        "        # Handle multi-word entities\n",
        "        entity_tokens = nltk.word_tokenize(entity)\n",
        "        for i in range(len(tokens) - len(entity_tokens) + 1):\n",
        "            if tokens[i:i+len(entity_tokens)] == entity_tokens:\n",
        "                # Check if this span is already tagged (avoid overlapping entities)\n",
        "                if all(tag == 'O' for tag in tags[i:i+len(entity_tokens)]):\n",
        "                    tags[i] = 'B-DISEASE'  # Beginning of entity\n",
        "                    for j in range(1, len(entity_tokens)):\n",
        "                        tags[i+j] = 'I-DISEASE'  # Inside of entity\n",
        "\n",
        "    return list(zip(tokens, tags))\n",
        "\n",
        "# Apply the function to create token-tag pairs\n",
        "df['token_tags'] = df.apply(lambda row: create_bio_tags(row['medical_history'], row['extracted_diseases']), axis=1)\n",
        "\n",
        "# Preview the token-tag pairs for the first row\n",
        "display(df['token_tags'].iloc[2])"
      ]
    },
    {
      "cell_type": "code",
      "execution_count": 6,
      "id": "f4b53ac5",
      "metadata": {
        "colab": {
          "base_uri": "https://localhost:8080/",
          "height": 133,
          "referenced_widgets": [
            "a56b0ec58d32415099af3ce21b888c25",
            "ef708295044e41db84deaab753ed3c53",
            "0b6d054d41344a1d801af6744ef6cda8",
            "d9678a2522a64799b89ac6ab2c4bb367",
            "77ebb8528565414a9a47b1aadd15f0c5",
            "ca6311fcef3c493db1fd5cf599b073ec",
            "6ab09d92213544d89341074e8f3bb114",
            "3303129268fc40c58b74915259ef9846",
            "41bf2de12ee74d89bdf094b884cea90b",
            "dcc6eb4196d14e89aafa22c67eeae401",
            "4e9dabd54dfa43c1a0441408667ffc39",
            "94764263c77e45ffbee21018fa262932",
            "8c76f384022843618f71ad7f7fba445f",
            "ce5571676d7746cfb62db1d521a045a9",
            "bdae0e7088f94983a35d107207448bdf",
            "0e8f6469df934e95b468e486029bae5e",
            "3852aa96dcac4734afec87f9e57b2edc",
            "cb1d09319abe4f9b85fd56bbbdcb722c",
            "cbae60f8e4fb4a1ea946223d0d134262",
            "a37767fa38734ffea3922d7b32fd0244",
            "c69c6d609f334de0a79baf3247c6762c",
            "0bf8e66f4715404a966fbc7d055f1cd8"
          ]
        },
        "id": "f4b53ac5",
        "outputId": "3fd71c49-845d-4f57-9822-7b94a84805e6"
      },
      "outputs": [
        {
          "data": {
            "application/vnd.jupyter.widget-view+json": {
              "model_id": "a56b0ec58d32415099af3ce21b888c25",
              "version_major": 2,
              "version_minor": 0
            },
            "text/plain": [
              "config.json:   0%|          | 0.00/385 [00:00<?, ?B/s]"
            ]
          },
          "metadata": {},
          "output_type": "display_data"
        },
        {
          "data": {
            "application/vnd.jupyter.widget-view+json": {
              "model_id": "94764263c77e45ffbee21018fa262932",
              "version_major": 2,
              "version_minor": 0
            },
            "text/plain": [
              "vocab.txt:   0%|          | 0.00/213k [00:00<?, ?B/s]"
            ]
          },
          "metadata": {},
          "output_type": "display_data"
        },
        {
          "name": "stdout",
          "output_type": "stream",
          "text": [
            "Input IDs shape: (128,)\n",
            "Attention mask shape: (128,)\n",
            "Labels shape: (128,)\n"
          ]
        }
      ],
      "source": [
        "# Initialize tokenizer\n",
        "tokenizer = AutoTokenizer.from_pretrained(\"emilyalsentzer/Bio_ClinicalBERT\")\n",
        "\n",
        "# Function to convert token-tag pairs to BERT input format\n",
        "def prepare_bert_input(token_tags, tokenizer, max_length=128):\n",
        "    tokens = [t[0] for t in token_tags]\n",
        "    tags = [t[1] for t in token_tags]\n",
        "\n",
        "    # Define tag to ID mapping\n",
        "    tag2id = {'O': 0, 'B-DISEASE': 1, 'I-DISEASE': 2}\n",
        "\n",
        "    # Tokenize words into WordPiece tokens\n",
        "    encoded = tokenizer(tokens,\n",
        "                        is_split_into_words=True,\n",
        "                        return_offsets_mapping=True,\n",
        "                        padding='max_length',\n",
        "                        truncation=True,\n",
        "                        max_length=max_length,\n",
        "                        return_tensors='np')\n",
        "\n",
        "    # Create label IDs\n",
        "    label_ids = np.zeros(len(encoded['input_ids'][0]))\n",
        "\n",
        "    # Map original tags to WordPiece tokens\n",
        "    word_ids = encoded.word_ids()\n",
        "    previous_word_idx = None\n",
        "    for i, word_idx in enumerate(word_ids):\n",
        "        if word_idx is None or word_idx == previous_word_idx:\n",
        "            # Special tokens or continuation of WordPiece\n",
        "            continue\n",
        "\n",
        "        # Map the tag to the first token of the word\n",
        "        if word_idx < len(tags):\n",
        "            label_ids[i] = tag2id[tags[word_idx]]\n",
        "\n",
        "        previous_word_idx = word_idx\n",
        "\n",
        "    return {\n",
        "        'input_ids': encoded['input_ids'][0],\n",
        "        'attention_mask': encoded['attention_mask'][0],\n",
        "        'labels': label_ids\n",
        "    }\n",
        "\n",
        "# Apply the function to the first few rows as an example\n",
        "bert_inputs = df.head().apply(lambda row: prepare_bert_input(row['token_tags'], tokenizer), axis=1).tolist()\n",
        "\n",
        "# Print shape of the first example\n",
        "print(\"Input IDs shape:\", bert_inputs[0]['input_ids'].shape)\n",
        "print(\"Attention mask shape:\", bert_inputs[0]['attention_mask'].shape)\n",
        "print(\"Labels shape:\", bert_inputs[0]['labels'].shape)"
      ]
    },
    {
      "cell_type": "code",
      "execution_count": 7,
      "id": "83f92068",
      "metadata": {
        "colab": {
          "base_uri": "https://localhost:8080/"
        },
        "id": "83f92068",
        "outputId": "31034bd9-410c-43f0-a4f1-31d16ceb0740"
      },
      "outputs": [
        {
          "name": "stdout",
          "output_type": "stream",
          "text": [
            "Training examples: 962\n",
            "Validation examples: 241\n"
          ]
        }
      ],
      "source": [
        "from sklearn.model_selection import train_test_split\n",
        "\n",
        "# Convert all rows to BERT input format\n",
        "all_bert_inputs = df.apply(lambda row: prepare_bert_input(row['token_tags'], tokenizer), axis=1).tolist()\n",
        "\n",
        "# Split into train and validation sets\n",
        "train_inputs, val_inputs = train_test_split(all_bert_inputs, test_size=0.2, random_state=42)\n",
        "\n",
        "print(f\"Training examples: {len(train_inputs)}\")\n",
        "print(f\"Validation examples: {len(val_inputs)}\")"
      ]
    },
    {
      "cell_type": "markdown",
      "id": "3db6f21d",
      "metadata": {
        "id": "3db6f21d"
      },
      "source": [
        "### 2.1.2 Model Training\n",
        "\n",
        "In this section, we will train a BERT model on A100 GPU."
      ]
    },
    {
      "cell_type": "code",
      "execution_count": 8,
      "id": "42aaf251",
      "metadata": {
        "colab": {
          "base_uri": "https://localhost:8080/"
        },
        "id": "42aaf251",
        "outputId": "77ac4c0f-ba73-476c-fb04-d54fe8ab5614"
      },
      "outputs": [
        {
          "name": "stdout",
          "output_type": "stream",
          "text": [
            "Sat May 24 01:14:28 2025       \n",
            "+-----------------------------------------------------------------------------------------+\n",
            "| NVIDIA-SMI 550.54.15              Driver Version: 550.54.15      CUDA Version: 12.4     |\n",
            "|-----------------------------------------+------------------------+----------------------+\n",
            "| GPU  Name                 Persistence-M | Bus-Id          Disp.A | Volatile Uncorr. ECC |\n",
            "| Fan  Temp   Perf          Pwr:Usage/Cap |           Memory-Usage | GPU-Util  Compute M. |\n",
            "|                                         |                        |               MIG M. |\n",
            "|=========================================+========================+======================|\n",
            "|   0  NVIDIA A100-SXM4-40GB          Off |   00000000:00:04.0 Off |                    0 |\n",
            "| N/A   32C    P0             42W /  400W |       5MiB /  40960MiB |      0%      Default |\n",
            "|                                         |                        |             Disabled |\n",
            "+-----------------------------------------+------------------------+----------------------+\n",
            "                                                                                         \n",
            "+-----------------------------------------------------------------------------------------+\n",
            "| Processes:                                                                              |\n",
            "|  GPU   GI   CI        PID   Type   Process name                              GPU Memory |\n",
            "|        ID   ID                                                               Usage      |\n",
            "|=========================================================================================|\n",
            "|  No running processes found                                                             |\n",
            "+-----------------------------------------------------------------------------------------+\n"
          ]
        }
      ],
      "source": [
        "!nvidia-smi"
      ]
    },
    {
      "cell_type": "code",
      "execution_count": null,
      "id": "c3be58ea",
      "metadata": {
        "colab": {
          "base_uri": "https://localhost:8080/"
        },
        "id": "c3be58ea",
        "outputId": "4dac1f4e-d68a-4cda-b7f8-b9517d733676"
      },
      "outputs": [
        {
          "name": "stderr",
          "output_type": "stream",
          "text": [
            "Some weights of BertForTokenClassification were not initialized from the model checkpoint at emilyalsentzer/Bio_ClinicalBERT and are newly initialized: ['classifier.bias', 'classifier.weight']\n",
            "You should probably TRAIN this model on a down-stream task to be able to use it for predictions and inference.\n"
          ]
        },
        {
          "name": "stdout",
          "output_type": "stream",
          "text": [
            "Using device: cuda\n"
          ]
        }
      ],
      "source": [
        "import torch\n",
        "from torch.utils.data import DataLoader, Dataset\n",
        "from transformers import AutoModelForTokenClassification, get_linear_schedule_with_warmup\n",
        "from torch.optim import AdamW\n",
        "from sklearn.metrics import accuracy_score, precision_recall_fscore_support\n",
        "from tqdm import tqdm\n",
        "import os\n",
        "import numpy as np\n",
        "\n",
        "# Define a PyTorch Dataset\n",
        "class NERDataset(Dataset):\n",
        "    def __init__(self, inputs):\n",
        "        self.inputs = inputs\n",
        "\n",
        "    def __len__(self):\n",
        "        return len(self.inputs)\n",
        "\n",
        "    def __getitem__(self, idx):\n",
        "        return {\n",
        "            'input_ids': torch.tensor(self.inputs[idx]['input_ids']),\n",
        "            'attention_mask': torch.tensor(self.inputs[idx]['attention_mask']),\n",
        "            'labels': torch.tensor(self.inputs[idx]['labels']).long()\n",
        "        }\n",
        "\n",
        "# Create datasets and dataloaders\n",
        "train_dataset = NERDataset(train_inputs)\n",
        "val_dataset = NERDataset(val_inputs)\n",
        "\n",
        "batch_size = 16\n",
        "train_loader = DataLoader(train_dataset, batch_size=batch_size, shuffle=True)\n",
        "val_loader = DataLoader(val_dataset, batch_size=batch_size)\n",
        "\n",
        "# Initialize the model\n",
        "num_labels = 3  # O, B-DISEASE, I-DISEASE\n",
        "model = AutoModelForTokenClassification.from_pretrained(\n",
        "    \"emilyalsentzer/Bio_ClinicalBERT\",\n",
        "    num_labels=num_labels\n",
        ")\n",
        "\n",
        "# Setup GPU/CPU device\n",
        "device = torch.device(\"cuda\" if torch.cuda.is_available() else \"cpu\")\n",
        "model.to(device)\n",
        "print(f\"Using device: {device}\")\n",
        "\n",
        "# Setup optimizer and scheduler\n",
        "optimizer = AdamW(model.parameters(), lr=2e-5)\n",
        "num_epochs = 50\n",
        "total_steps = len(train_loader) * num_epochs\n",
        "scheduler = get_linear_schedule_with_warmup(\n",
        "    optimizer,\n",
        "    num_warmup_steps=0,\n",
        "    num_training_steps=total_steps\n",
        ")"
      ]
    },
    {
      "cell_type": "code",
      "execution_count": 12,
      "id": "6f20c67c",
      "metadata": {
        "id": "6f20c67c"
      },
      "outputs": [],
      "source": [
        "# Function to compute metrics\n",
        "def compute_metrics(preds, labels):\n",
        "    # Remove ignored index (special tokens)\n",
        "    pred_flat = np.argmax(preds, axis=2).flatten()\n",
        "    labels_flat = labels.flatten()\n",
        "    mask = labels_flat != -100\n",
        "\n",
        "    pred_flat = pred_flat[mask]\n",
        "    labels_flat = labels_flat[mask]\n",
        "\n",
        "    precision, recall, f1, _ = precision_recall_fscore_support(\n",
        "        labels_flat, pred_flat, average='weighted')\n",
        "    acc = accuracy_score(labels_flat, pred_flat)\n",
        "\n",
        "    return {\n",
        "        'accuracy': acc,\n",
        "        'precision': precision,\n",
        "        'recall': recall,\n",
        "        'f1': f1\n",
        "    }\n",
        "\n",
        "# Training function\n",
        "def train_epoch(model, dataloader, optimizer, scheduler, device):\n",
        "    model.train()\n",
        "    total_loss = 0\n",
        "    all_preds = []\n",
        "    all_labels = []\n",
        "\n",
        "    progress_bar = tqdm(dataloader, desc=\"Training\")\n",
        "    for batch in progress_bar:\n",
        "        # Move to device\n",
        "        input_ids = batch['input_ids'].to(device)\n",
        "        attention_mask = batch['attention_mask'].to(device)\n",
        "        labels = batch['labels'].to(device)\n",
        "\n",
        "        # Forward pass\n",
        "        outputs = model(\n",
        "            input_ids=input_ids,\n",
        "            attention_mask=attention_mask,\n",
        "            labels=labels\n",
        "        )\n",
        "\n",
        "        loss = outputs.loss\n",
        "        total_loss += loss.item()\n",
        "\n",
        "        # Backward pass\n",
        "        optimizer.zero_grad()\n",
        "        loss.backward()\n",
        "        torch.nn.utils.clip_grad_norm_(model.parameters(), 1.0)\n",
        "        optimizer.step()\n",
        "        scheduler.step()\n",
        "\n",
        "        # Store predictions and labels for metrics\n",
        "        logits = outputs.logits.detach().cpu().numpy()\n",
        "        label_ids = labels.detach().cpu().numpy()\n",
        "        all_preds.append(logits)\n",
        "        all_labels.append(label_ids)\n",
        "\n",
        "        # Update progress bar\n",
        "        progress_bar.set_postfix({'loss': loss.item()})\n",
        "\n",
        "    # Compute metrics\n",
        "    all_preds = np.vstack([p for p in all_preds])\n",
        "    all_labels = np.vstack([l for l in all_labels])\n",
        "    metrics = compute_metrics(all_preds, all_labels)\n",
        "    metrics['loss'] = total_loss / len(dataloader)\n",
        "\n",
        "    return metrics\n",
        "\n",
        "# Evaluation function\n",
        "def evaluate(model, dataloader, device):\n",
        "    model.eval()\n",
        "    total_loss = 0\n",
        "    all_preds = []\n",
        "    all_labels = []\n",
        "\n",
        "    with torch.no_grad():\n",
        "        for batch in tqdm(dataloader, desc=\"Evaluating\"):\n",
        "            input_ids = batch['input_ids'].to(device)\n",
        "            attention_mask = batch['attention_mask'].to(device)\n",
        "            labels = batch['labels'].to(device)\n",
        "\n",
        "            outputs = model(\n",
        "                input_ids=input_ids,\n",
        "                attention_mask=attention_mask,\n",
        "                labels=labels\n",
        "            )\n",
        "\n",
        "            loss = outputs.loss\n",
        "            total_loss += loss.item()\n",
        "\n",
        "            logits = outputs.logits.detach().cpu().numpy()\n",
        "            label_ids = labels.detach().cpu().numpy()\n",
        "            all_preds.append(logits)\n",
        "            all_labels.append(label_ids)\n",
        "\n",
        "    all_preds = np.vstack([p for p in all_preds])\n",
        "    all_labels = np.vstack([l for l in all_labels])\n",
        "    metrics = compute_metrics(all_preds, all_labels)\n",
        "    metrics['loss'] = total_loss / len(dataloader)\n",
        "\n",
        "    return metrics"
      ]
    },
    {
      "cell_type": "code",
      "execution_count": 13,
      "id": "94f2566f",
      "metadata": {
        "colab": {
          "base_uri": "https://localhost:8080/"
        },
        "id": "94f2566f",
        "outputId": "b65fd9fa-0d82-482e-8335-20f1fe9bf516"
      },
      "outputs": [
        {
          "name": "stdout",
          "output_type": "stream",
          "text": [
            "Starting training...\n",
            "Epoch 1/70\n"
          ]
        },
        {
          "name": "stderr",
          "output_type": "stream",
          "text": [
            "Training: 100%|██████████| 61/61 [00:06<00:00,  9.77it/s, loss=0.0167]\n"
          ]
        },
        {
          "name": "stdout",
          "output_type": "stream",
          "text": [
            "Train Loss: 0.1206, Accuracy: 0.9644\n"
          ]
        },
        {
          "name": "stderr",
          "output_type": "stream",
          "text": [
            "Evaluating: 100%|██████████| 16/16 [00:00<00:00, 39.63it/s]\n"
          ]
        },
        {
          "name": "stdout",
          "output_type": "stream",
          "text": [
            "Validation Loss: 0.0115, Accuracy: 0.9972, F1: 0.9972\n",
            "New best model with F1: 0.9972\n",
            "Epoch 2/70\n"
          ]
        },
        {
          "name": "stderr",
          "output_type": "stream",
          "text": [
            "Training: 100%|██████████| 61/61 [00:05<00:00, 12.01it/s, loss=0.00218]\n"
          ]
        },
        {
          "name": "stdout",
          "output_type": "stream",
          "text": [
            "Train Loss: 0.0094, Accuracy: 0.9969\n"
          ]
        },
        {
          "name": "stderr",
          "output_type": "stream",
          "text": [
            "Evaluating: 100%|██████████| 16/16 [00:00<00:00, 39.56it/s]\n"
          ]
        },
        {
          "name": "stdout",
          "output_type": "stream",
          "text": [
            "Validation Loss: 0.0059, Accuracy: 0.9979, F1: 0.9979\n",
            "New best model with F1: 0.9979\n",
            "Epoch 3/70\n"
          ]
        },
        {
          "name": "stderr",
          "output_type": "stream",
          "text": [
            "Training: 100%|██████████| 61/61 [00:05<00:00, 11.96it/s, loss=0.000126]\n"
          ]
        },
        {
          "name": "stdout",
          "output_type": "stream",
          "text": [
            "Train Loss: 0.0053, Accuracy: 0.9982\n"
          ]
        },
        {
          "name": "stderr",
          "output_type": "stream",
          "text": [
            "Evaluating: 100%|██████████| 16/16 [00:00<00:00, 39.31it/s]\n"
          ]
        },
        {
          "name": "stdout",
          "output_type": "stream",
          "text": [
            "Validation Loss: 0.0061, Accuracy: 0.9981, F1: 0.9981\n",
            "New best model with F1: 0.9981\n",
            "Epoch 4/70\n"
          ]
        },
        {
          "name": "stderr",
          "output_type": "stream",
          "text": [
            "Training: 100%|██████████| 61/61 [00:05<00:00, 12.02it/s, loss=6.77e-5]\n"
          ]
        },
        {
          "name": "stdout",
          "output_type": "stream",
          "text": [
            "Train Loss: 0.0038, Accuracy: 0.9987\n"
          ]
        },
        {
          "name": "stderr",
          "output_type": "stream",
          "text": [
            "Evaluating: 100%|██████████| 16/16 [00:00<00:00, 39.78it/s]\n"
          ]
        },
        {
          "name": "stdout",
          "output_type": "stream",
          "text": [
            "Validation Loss: 0.0064, Accuracy: 0.9981, F1: 0.9981\n",
            "Epoch 5/70\n"
          ]
        },
        {
          "name": "stderr",
          "output_type": "stream",
          "text": [
            "Training: 100%|██████████| 61/61 [00:05<00:00, 12.02it/s, loss=0.0017]\n"
          ]
        },
        {
          "name": "stdout",
          "output_type": "stream",
          "text": [
            "Train Loss: 0.0030, Accuracy: 0.9991\n"
          ]
        },
        {
          "name": "stderr",
          "output_type": "stream",
          "text": [
            "Evaluating: 100%|██████████| 16/16 [00:00<00:00, 39.68it/s]\n"
          ]
        },
        {
          "name": "stdout",
          "output_type": "stream",
          "text": [
            "Validation Loss: 0.0061, Accuracy: 0.9979, F1: 0.9979\n",
            "Epoch 6/70\n"
          ]
        },
        {
          "name": "stderr",
          "output_type": "stream",
          "text": [
            "Training: 100%|██████████| 61/61 [00:05<00:00, 12.05it/s, loss=7.35e-5]\n"
          ]
        },
        {
          "name": "stdout",
          "output_type": "stream",
          "text": [
            "Train Loss: 0.0022, Accuracy: 0.9993\n"
          ]
        },
        {
          "name": "stderr",
          "output_type": "stream",
          "text": [
            "Evaluating: 100%|██████████| 16/16 [00:00<00:00, 39.62it/s]\n"
          ]
        },
        {
          "name": "stdout",
          "output_type": "stream",
          "text": [
            "Validation Loss: 0.0064, Accuracy: 0.9980, F1: 0.9980\n",
            "Epoch 7/70\n"
          ]
        },
        {
          "name": "stderr",
          "output_type": "stream",
          "text": [
            "Training: 100%|██████████| 61/61 [00:05<00:00, 12.03it/s, loss=0.000666]\n"
          ]
        },
        {
          "name": "stdout",
          "output_type": "stream",
          "text": [
            "Train Loss: 0.0017, Accuracy: 0.9995\n"
          ]
        },
        {
          "name": "stderr",
          "output_type": "stream",
          "text": [
            "Evaluating: 100%|██████████| 16/16 [00:00<00:00, 39.79it/s]\n"
          ]
        },
        {
          "name": "stdout",
          "output_type": "stream",
          "text": [
            "Validation Loss: 0.0072, Accuracy: 0.9980, F1: 0.9981\n",
            "Epoch 8/70\n"
          ]
        },
        {
          "name": "stderr",
          "output_type": "stream",
          "text": [
            "Training: 100%|██████████| 61/61 [00:05<00:00, 12.03it/s, loss=0.00366]\n"
          ]
        },
        {
          "name": "stdout",
          "output_type": "stream",
          "text": [
            "Train Loss: 0.0013, Accuracy: 0.9997\n"
          ]
        },
        {
          "name": "stderr",
          "output_type": "stream",
          "text": [
            "Evaluating: 100%|██████████| 16/16 [00:00<00:00, 39.72it/s]\n"
          ]
        },
        {
          "name": "stdout",
          "output_type": "stream",
          "text": [
            "Validation Loss: 0.0081, Accuracy: 0.9977, F1: 0.9978\n",
            "Epoch 9/70\n"
          ]
        },
        {
          "name": "stderr",
          "output_type": "stream",
          "text": [
            "Training: 100%|██████████| 61/61 [00:05<00:00, 12.04it/s, loss=0.000129]\n"
          ]
        },
        {
          "name": "stdout",
          "output_type": "stream",
          "text": [
            "Train Loss: 0.0013, Accuracy: 0.9996\n"
          ]
        },
        {
          "name": "stderr",
          "output_type": "stream",
          "text": [
            "Evaluating: 100%|██████████| 16/16 [00:00<00:00, 39.59it/s]\n"
          ]
        },
        {
          "name": "stdout",
          "output_type": "stream",
          "text": [
            "Validation Loss: 0.0075, Accuracy: 0.9979, F1: 0.9979\n",
            "Epoch 10/70\n"
          ]
        },
        {
          "name": "stderr",
          "output_type": "stream",
          "text": [
            "Training: 100%|██████████| 61/61 [00:05<00:00, 12.01it/s, loss=5.56e-5]\n"
          ]
        },
        {
          "name": "stdout",
          "output_type": "stream",
          "text": [
            "Train Loss: 0.0009, Accuracy: 0.9997\n"
          ]
        },
        {
          "name": "stderr",
          "output_type": "stream",
          "text": [
            "Evaluating: 100%|██████████| 16/16 [00:00<00:00, 39.56it/s]\n"
          ]
        },
        {
          "name": "stdout",
          "output_type": "stream",
          "text": [
            "Validation Loss: 0.0094, Accuracy: 0.9980, F1: 0.9980\n",
            "Epoch 11/70\n"
          ]
        },
        {
          "name": "stderr",
          "output_type": "stream",
          "text": [
            "Training: 100%|██████████| 61/61 [00:05<00:00, 12.03it/s, loss=0.00849]\n"
          ]
        },
        {
          "name": "stdout",
          "output_type": "stream",
          "text": [
            "Train Loss: 0.0007, Accuracy: 0.9998\n"
          ]
        },
        {
          "name": "stderr",
          "output_type": "stream",
          "text": [
            "Evaluating: 100%|██████████| 16/16 [00:00<00:00, 39.42it/s]\n"
          ]
        },
        {
          "name": "stdout",
          "output_type": "stream",
          "text": [
            "Validation Loss: 0.0089, Accuracy: 0.9980, F1: 0.9981\n",
            "Epoch 12/70\n"
          ]
        },
        {
          "name": "stderr",
          "output_type": "stream",
          "text": [
            "Training: 100%|██████████| 61/61 [00:05<00:00, 12.03it/s, loss=0.000212]\n"
          ]
        },
        {
          "name": "stdout",
          "output_type": "stream",
          "text": [
            "Train Loss: 0.0010, Accuracy: 0.9997\n"
          ]
        },
        {
          "name": "stderr",
          "output_type": "stream",
          "text": [
            "Evaluating: 100%|██████████| 16/16 [00:00<00:00, 39.77it/s]\n"
          ]
        },
        {
          "name": "stdout",
          "output_type": "stream",
          "text": [
            "Validation Loss: 0.0082, Accuracy: 0.9979, F1: 0.9979\n",
            "Epoch 13/70\n"
          ]
        },
        {
          "name": "stderr",
          "output_type": "stream",
          "text": [
            "Training: 100%|██████████| 61/61 [00:05<00:00, 12.04it/s, loss=4.85e-5]\n"
          ]
        },
        {
          "name": "stdout",
          "output_type": "stream",
          "text": [
            "Train Loss: 0.0003, Accuracy: 0.9999\n"
          ]
        },
        {
          "name": "stderr",
          "output_type": "stream",
          "text": [
            "Evaluating: 100%|██████████| 16/16 [00:00<00:00, 39.71it/s]\n"
          ]
        },
        {
          "name": "stdout",
          "output_type": "stream",
          "text": [
            "Validation Loss: 0.0090, Accuracy: 0.9980, F1: 0.9980\n",
            "Epoch 14/70\n"
          ]
        },
        {
          "name": "stderr",
          "output_type": "stream",
          "text": [
            "Training: 100%|██████████| 61/61 [00:05<00:00, 12.01it/s, loss=0.000184]\n"
          ]
        },
        {
          "name": "stdout",
          "output_type": "stream",
          "text": [
            "Train Loss: 0.0002, Accuracy: 1.0000\n"
          ]
        },
        {
          "name": "stderr",
          "output_type": "stream",
          "text": [
            "Evaluating: 100%|██████████| 16/16 [00:00<00:00, 39.72it/s]\n"
          ]
        },
        {
          "name": "stdout",
          "output_type": "stream",
          "text": [
            "Validation Loss: 0.0102, Accuracy: 0.9979, F1: 0.9979\n",
            "Epoch 15/70\n"
          ]
        },
        {
          "name": "stderr",
          "output_type": "stream",
          "text": [
            "Training: 100%|██████████| 61/61 [00:05<00:00, 12.05it/s, loss=3.58e-5]\n"
          ]
        },
        {
          "name": "stdout",
          "output_type": "stream",
          "text": [
            "Train Loss: 0.0002, Accuracy: 1.0000\n"
          ]
        },
        {
          "name": "stderr",
          "output_type": "stream",
          "text": [
            "Evaluating: 100%|██████████| 16/16 [00:00<00:00, 39.61it/s]\n"
          ]
        },
        {
          "name": "stdout",
          "output_type": "stream",
          "text": [
            "Validation Loss: 0.0109, Accuracy: 0.9981, F1: 0.9981\n",
            "Epoch 16/70\n"
          ]
        },
        {
          "name": "stderr",
          "output_type": "stream",
          "text": [
            "Training: 100%|██████████| 61/61 [00:05<00:00, 11.98it/s, loss=4.05e-5]\n"
          ]
        },
        {
          "name": "stdout",
          "output_type": "stream",
          "text": [
            "Train Loss: 0.0003, Accuracy: 0.9999\n"
          ]
        },
        {
          "name": "stderr",
          "output_type": "stream",
          "text": [
            "Evaluating: 100%|██████████| 16/16 [00:00<00:00, 39.69it/s]\n"
          ]
        },
        {
          "name": "stdout",
          "output_type": "stream",
          "text": [
            "Validation Loss: 0.0105, Accuracy: 0.9979, F1: 0.9980\n",
            "Epoch 17/70\n"
          ]
        },
        {
          "name": "stderr",
          "output_type": "stream",
          "text": [
            "Training: 100%|██████████| 61/61 [00:05<00:00, 12.07it/s, loss=4.88e-5]\n"
          ]
        },
        {
          "name": "stdout",
          "output_type": "stream",
          "text": [
            "Train Loss: 0.0003, Accuracy: 0.9999\n"
          ]
        },
        {
          "name": "stderr",
          "output_type": "stream",
          "text": [
            "Evaluating: 100%|██████████| 16/16 [00:00<00:00, 39.62it/s]\n"
          ]
        },
        {
          "name": "stdout",
          "output_type": "stream",
          "text": [
            "Validation Loss: 0.0108, Accuracy: 0.9978, F1: 0.9979\n",
            "Epoch 18/70\n"
          ]
        },
        {
          "name": "stderr",
          "output_type": "stream",
          "text": [
            "Training: 100%|██████████| 61/61 [00:05<00:00, 12.02it/s, loss=4.03e-5]\n"
          ]
        },
        {
          "name": "stdout",
          "output_type": "stream",
          "text": [
            "Train Loss: 0.0004, Accuracy: 0.9999\n"
          ]
        },
        {
          "name": "stderr",
          "output_type": "stream",
          "text": [
            "Evaluating: 100%|██████████| 16/16 [00:00<00:00, 39.66it/s]\n"
          ]
        },
        {
          "name": "stdout",
          "output_type": "stream",
          "text": [
            "Validation Loss: 0.0113, Accuracy: 0.9978, F1: 0.9979\n",
            "Epoch 19/70\n"
          ]
        },
        {
          "name": "stderr",
          "output_type": "stream",
          "text": [
            "Training: 100%|██████████| 61/61 [00:05<00:00, 12.04it/s, loss=3.51e-5]\n"
          ]
        },
        {
          "name": "stdout",
          "output_type": "stream",
          "text": [
            "Train Loss: 0.0005, Accuracy: 0.9998\n"
          ]
        },
        {
          "name": "stderr",
          "output_type": "stream",
          "text": [
            "Evaluating: 100%|██████████| 16/16 [00:00<00:00, 39.79it/s]\n"
          ]
        },
        {
          "name": "stdout",
          "output_type": "stream",
          "text": [
            "Validation Loss: 0.0114, Accuracy: 0.9978, F1: 0.9978\n",
            "Epoch 20/70\n"
          ]
        },
        {
          "name": "stderr",
          "output_type": "stream",
          "text": [
            "Training: 100%|██████████| 61/61 [00:05<00:00, 12.02it/s, loss=6.72e-5]\n"
          ]
        },
        {
          "name": "stdout",
          "output_type": "stream",
          "text": [
            "Train Loss: 0.0004, Accuracy: 0.9999\n"
          ]
        },
        {
          "name": "stderr",
          "output_type": "stream",
          "text": [
            "Evaluating: 100%|██████████| 16/16 [00:00<00:00, 39.77it/s]\n"
          ]
        },
        {
          "name": "stdout",
          "output_type": "stream",
          "text": [
            "Validation Loss: 0.0110, Accuracy: 0.9977, F1: 0.9977\n",
            "Epoch 21/70\n"
          ]
        },
        {
          "name": "stderr",
          "output_type": "stream",
          "text": [
            "Training: 100%|██████████| 61/61 [00:05<00:00, 12.05it/s, loss=2.3e-5]\n"
          ]
        },
        {
          "name": "stdout",
          "output_type": "stream",
          "text": [
            "Train Loss: 0.0003, Accuracy: 0.9999\n"
          ]
        },
        {
          "name": "stderr",
          "output_type": "stream",
          "text": [
            "Evaluating: 100%|██████████| 16/16 [00:00<00:00, 39.73it/s]\n"
          ]
        },
        {
          "name": "stdout",
          "output_type": "stream",
          "text": [
            "Validation Loss: 0.0101, Accuracy: 0.9978, F1: 0.9978\n",
            "Epoch 22/70\n"
          ]
        },
        {
          "name": "stderr",
          "output_type": "stream",
          "text": [
            "Training: 100%|██████████| 61/61 [00:05<00:00, 11.99it/s, loss=1.63e-5]\n"
          ]
        },
        {
          "name": "stdout",
          "output_type": "stream",
          "text": [
            "Train Loss: 0.0001, Accuracy: 1.0000\n"
          ]
        },
        {
          "name": "stderr",
          "output_type": "stream",
          "text": [
            "Evaluating: 100%|██████████| 16/16 [00:00<00:00, 39.70it/s]\n"
          ]
        },
        {
          "name": "stdout",
          "output_type": "stream",
          "text": [
            "Validation Loss: 0.0108, Accuracy: 0.9980, F1: 0.9980\n",
            "Epoch 23/70\n"
          ]
        },
        {
          "name": "stderr",
          "output_type": "stream",
          "text": [
            "Training: 100%|██████████| 61/61 [00:05<00:00, 12.01it/s, loss=3.33e-5]\n"
          ]
        },
        {
          "name": "stdout",
          "output_type": "stream",
          "text": [
            "Train Loss: 0.0001, Accuracy: 1.0000\n"
          ]
        },
        {
          "name": "stderr",
          "output_type": "stream",
          "text": [
            "Evaluating: 100%|██████████| 16/16 [00:00<00:00, 39.70it/s]\n"
          ]
        },
        {
          "name": "stdout",
          "output_type": "stream",
          "text": [
            "Validation Loss: 0.0111, Accuracy: 0.9980, F1: 0.9980\n",
            "Epoch 24/70\n"
          ]
        },
        {
          "name": "stderr",
          "output_type": "stream",
          "text": [
            "Training: 100%|██████████| 61/61 [00:05<00:00, 12.01it/s, loss=6.65e-5]\n"
          ]
        },
        {
          "name": "stdout",
          "output_type": "stream",
          "text": [
            "Train Loss: 0.0001, Accuracy: 1.0000\n"
          ]
        },
        {
          "name": "stderr",
          "output_type": "stream",
          "text": [
            "Evaluating: 100%|██████████| 16/16 [00:00<00:00, 39.52it/s]\n"
          ]
        },
        {
          "name": "stdout",
          "output_type": "stream",
          "text": [
            "Validation Loss: 0.0119, Accuracy: 0.9978, F1: 0.9978\n",
            "Epoch 25/70\n"
          ]
        },
        {
          "name": "stderr",
          "output_type": "stream",
          "text": [
            "Training: 100%|██████████| 61/61 [00:05<00:00, 12.02it/s, loss=1.4e-5]\n"
          ]
        },
        {
          "name": "stdout",
          "output_type": "stream",
          "text": [
            "Train Loss: 0.0000, Accuracy: 1.0000\n"
          ]
        },
        {
          "name": "stderr",
          "output_type": "stream",
          "text": [
            "Evaluating: 100%|██████████| 16/16 [00:00<00:00, 39.55it/s]\n"
          ]
        },
        {
          "name": "stdout",
          "output_type": "stream",
          "text": [
            "Validation Loss: 0.0122, Accuracy: 0.9978, F1: 0.9978\n",
            "Epoch 26/70\n"
          ]
        },
        {
          "name": "stderr",
          "output_type": "stream",
          "text": [
            "Training: 100%|██████████| 61/61 [00:05<00:00, 12.00it/s, loss=0.00246]\n"
          ]
        },
        {
          "name": "stdout",
          "output_type": "stream",
          "text": [
            "Train Loss: 0.0002, Accuracy: 1.0000\n"
          ]
        },
        {
          "name": "stderr",
          "output_type": "stream",
          "text": [
            "Evaluating: 100%|██████████| 16/16 [00:00<00:00, 39.49it/s]\n"
          ]
        },
        {
          "name": "stdout",
          "output_type": "stream",
          "text": [
            "Validation Loss: 0.0128, Accuracy: 0.9978, F1: 0.9978\n",
            "Epoch 27/70\n"
          ]
        },
        {
          "name": "stderr",
          "output_type": "stream",
          "text": [
            "Training: 100%|██████████| 61/61 [00:05<00:00, 12.02it/s, loss=1.94e-5]\n"
          ]
        },
        {
          "name": "stdout",
          "output_type": "stream",
          "text": [
            "Train Loss: 0.0002, Accuracy: 1.0000\n"
          ]
        },
        {
          "name": "stderr",
          "output_type": "stream",
          "text": [
            "Evaluating: 100%|██████████| 16/16 [00:00<00:00, 39.48it/s]\n"
          ]
        },
        {
          "name": "stdout",
          "output_type": "stream",
          "text": [
            "Validation Loss: 0.0121, Accuracy: 0.9979, F1: 0.9979\n",
            "Epoch 28/70\n"
          ]
        },
        {
          "name": "stderr",
          "output_type": "stream",
          "text": [
            "Training: 100%|██████████| 61/61 [00:05<00:00, 12.04it/s, loss=9.62e-6]\n"
          ]
        },
        {
          "name": "stdout",
          "output_type": "stream",
          "text": [
            "Train Loss: 0.0001, Accuracy: 1.0000\n"
          ]
        },
        {
          "name": "stderr",
          "output_type": "stream",
          "text": [
            "Evaluating: 100%|██████████| 16/16 [00:00<00:00, 39.60it/s]\n"
          ]
        },
        {
          "name": "stdout",
          "output_type": "stream",
          "text": [
            "Validation Loss: 0.0117, Accuracy: 0.9978, F1: 0.9978\n",
            "Epoch 29/70\n"
          ]
        },
        {
          "name": "stderr",
          "output_type": "stream",
          "text": [
            "Training: 100%|██████████| 61/61 [00:05<00:00, 12.03it/s, loss=1.93e-5]\n"
          ]
        },
        {
          "name": "stdout",
          "output_type": "stream",
          "text": [
            "Train Loss: 0.0001, Accuracy: 1.0000\n"
          ]
        },
        {
          "name": "stderr",
          "output_type": "stream",
          "text": [
            "Evaluating: 100%|██████████| 16/16 [00:00<00:00, 39.57it/s]\n"
          ]
        },
        {
          "name": "stdout",
          "output_type": "stream",
          "text": [
            "Validation Loss: 0.0118, Accuracy: 0.9979, F1: 0.9979\n",
            "Epoch 30/70\n"
          ]
        },
        {
          "name": "stderr",
          "output_type": "stream",
          "text": [
            "Training: 100%|██████████| 61/61 [00:05<00:00, 12.01it/s, loss=1.15e-5]\n"
          ]
        },
        {
          "name": "stdout",
          "output_type": "stream",
          "text": [
            "Train Loss: 0.0000, Accuracy: 1.0000\n"
          ]
        },
        {
          "name": "stderr",
          "output_type": "stream",
          "text": [
            "Evaluating: 100%|██████████| 16/16 [00:00<00:00, 39.43it/s]\n"
          ]
        },
        {
          "name": "stdout",
          "output_type": "stream",
          "text": [
            "Validation Loss: 0.0122, Accuracy: 0.9978, F1: 0.9979\n",
            "Epoch 31/70\n"
          ]
        },
        {
          "name": "stderr",
          "output_type": "stream",
          "text": [
            "Training: 100%|██████████| 61/61 [00:05<00:00, 12.01it/s, loss=1.43e-5]\n"
          ]
        },
        {
          "name": "stdout",
          "output_type": "stream",
          "text": [
            "Train Loss: 0.0000, Accuracy: 1.0000\n"
          ]
        },
        {
          "name": "stderr",
          "output_type": "stream",
          "text": [
            "Evaluating: 100%|██████████| 16/16 [00:00<00:00, 39.48it/s]\n"
          ]
        },
        {
          "name": "stdout",
          "output_type": "stream",
          "text": [
            "Validation Loss: 0.0126, Accuracy: 0.9978, F1: 0.9979\n",
            "Epoch 32/70\n"
          ]
        },
        {
          "name": "stderr",
          "output_type": "stream",
          "text": [
            "Training: 100%|██████████| 61/61 [00:05<00:00, 12.00it/s, loss=1.6e-5]\n"
          ]
        },
        {
          "name": "stdout",
          "output_type": "stream",
          "text": [
            "Train Loss: 0.0000, Accuracy: 1.0000\n"
          ]
        },
        {
          "name": "stderr",
          "output_type": "stream",
          "text": [
            "Evaluating: 100%|██████████| 16/16 [00:00<00:00, 39.50it/s]\n"
          ]
        },
        {
          "name": "stdout",
          "output_type": "stream",
          "text": [
            "Validation Loss: 0.0128, Accuracy: 0.9979, F1: 0.9979\n",
            "Epoch 33/70\n"
          ]
        },
        {
          "name": "stderr",
          "output_type": "stream",
          "text": [
            "Training: 100%|██████████| 61/61 [00:05<00:00, 11.98it/s, loss=7.95e-6]\n"
          ]
        },
        {
          "name": "stdout",
          "output_type": "stream",
          "text": [
            "Train Loss: 0.0000, Accuracy: 1.0000\n"
          ]
        },
        {
          "name": "stderr",
          "output_type": "stream",
          "text": [
            "Evaluating: 100%|██████████| 16/16 [00:00<00:00, 39.62it/s]\n"
          ]
        },
        {
          "name": "stdout",
          "output_type": "stream",
          "text": [
            "Validation Loss: 0.0129, Accuracy: 0.9979, F1: 0.9979\n",
            "Epoch 34/70\n"
          ]
        },
        {
          "name": "stderr",
          "output_type": "stream",
          "text": [
            "Training: 100%|██████████| 61/61 [00:05<00:00, 11.99it/s, loss=1.37e-5]\n"
          ]
        },
        {
          "name": "stdout",
          "output_type": "stream",
          "text": [
            "Train Loss: 0.0002, Accuracy: 1.0000\n"
          ]
        },
        {
          "name": "stderr",
          "output_type": "stream",
          "text": [
            "Evaluating: 100%|██████████| 16/16 [00:00<00:00, 39.37it/s]\n"
          ]
        },
        {
          "name": "stdout",
          "output_type": "stream",
          "text": [
            "Validation Loss: 0.0137, Accuracy: 0.9978, F1: 0.9978\n",
            "Epoch 35/70\n"
          ]
        },
        {
          "name": "stderr",
          "output_type": "stream",
          "text": [
            "Training: 100%|██████████| 61/61 [00:05<00:00, 11.95it/s, loss=1.27e-5]\n"
          ]
        },
        {
          "name": "stdout",
          "output_type": "stream",
          "text": [
            "Train Loss: 0.0002, Accuracy: 0.9999\n"
          ]
        },
        {
          "name": "stderr",
          "output_type": "stream",
          "text": [
            "Evaluating: 100%|██████████| 16/16 [00:00<00:00, 39.48it/s]\n"
          ]
        },
        {
          "name": "stdout",
          "output_type": "stream",
          "text": [
            "Validation Loss: 0.0114, Accuracy: 0.9978, F1: 0.9978\n",
            "Epoch 36/70\n"
          ]
        },
        {
          "name": "stderr",
          "output_type": "stream",
          "text": [
            "Training: 100%|██████████| 61/61 [00:05<00:00, 11.95it/s, loss=1.59e-5]\n"
          ]
        },
        {
          "name": "stdout",
          "output_type": "stream",
          "text": [
            "Train Loss: 0.0003, Accuracy: 0.9999\n"
          ]
        },
        {
          "name": "stderr",
          "output_type": "stream",
          "text": [
            "Evaluating: 100%|██████████| 16/16 [00:00<00:00, 39.08it/s]\n"
          ]
        },
        {
          "name": "stdout",
          "output_type": "stream",
          "text": [
            "Validation Loss: 0.0114, Accuracy: 0.9978, F1: 0.9978\n",
            "Epoch 37/70\n"
          ]
        },
        {
          "name": "stderr",
          "output_type": "stream",
          "text": [
            "Training: 100%|██████████| 61/61 [00:05<00:00, 11.96it/s, loss=1.54e-5]\n"
          ]
        },
        {
          "name": "stdout",
          "output_type": "stream",
          "text": [
            "Train Loss: 0.0001, Accuracy: 1.0000\n"
          ]
        },
        {
          "name": "stderr",
          "output_type": "stream",
          "text": [
            "Evaluating: 100%|██████████| 16/16 [00:00<00:00, 39.54it/s]\n"
          ]
        },
        {
          "name": "stdout",
          "output_type": "stream",
          "text": [
            "Validation Loss: 0.0113, Accuracy: 0.9977, F1: 0.9978\n",
            "Epoch 38/70\n"
          ]
        },
        {
          "name": "stderr",
          "output_type": "stream",
          "text": [
            "Training: 100%|██████████| 61/61 [00:05<00:00, 11.95it/s, loss=9.92e-6]\n"
          ]
        },
        {
          "name": "stdout",
          "output_type": "stream",
          "text": [
            "Train Loss: 0.0000, Accuracy: 1.0000\n"
          ]
        },
        {
          "name": "stderr",
          "output_type": "stream",
          "text": [
            "Evaluating: 100%|██████████| 16/16 [00:00<00:00, 39.12it/s]\n"
          ]
        },
        {
          "name": "stdout",
          "output_type": "stream",
          "text": [
            "Validation Loss: 0.0118, Accuracy: 0.9977, F1: 0.9978\n",
            "Epoch 39/70\n"
          ]
        },
        {
          "name": "stderr",
          "output_type": "stream",
          "text": [
            "Training: 100%|██████████| 61/61 [00:05<00:00, 11.96it/s, loss=9.21e-6]\n"
          ]
        },
        {
          "name": "stdout",
          "output_type": "stream",
          "text": [
            "Train Loss: 0.0000, Accuracy: 1.0000\n"
          ]
        },
        {
          "name": "stderr",
          "output_type": "stream",
          "text": [
            "Evaluating: 100%|██████████| 16/16 [00:00<00:00, 39.36it/s]\n"
          ]
        },
        {
          "name": "stdout",
          "output_type": "stream",
          "text": [
            "Validation Loss: 0.0123, Accuracy: 0.9978, F1: 0.9978\n",
            "Epoch 40/70\n"
          ]
        },
        {
          "name": "stderr",
          "output_type": "stream",
          "text": [
            "Training: 100%|██████████| 61/61 [00:05<00:00, 11.96it/s, loss=9.87e-6]\n"
          ]
        },
        {
          "name": "stdout",
          "output_type": "stream",
          "text": [
            "Train Loss: 0.0001, Accuracy: 1.0000\n"
          ]
        },
        {
          "name": "stderr",
          "output_type": "stream",
          "text": [
            "Evaluating: 100%|██████████| 16/16 [00:00<00:00, 39.04it/s]\n"
          ]
        },
        {
          "name": "stdout",
          "output_type": "stream",
          "text": [
            "Validation Loss: 0.0128, Accuracy: 0.9978, F1: 0.9978\n",
            "Epoch 41/70\n"
          ]
        },
        {
          "name": "stderr",
          "output_type": "stream",
          "text": [
            "Training: 100%|██████████| 61/61 [00:05<00:00, 11.93it/s, loss=1.94e-5]\n"
          ]
        },
        {
          "name": "stdout",
          "output_type": "stream",
          "text": [
            "Train Loss: 0.0001, Accuracy: 1.0000\n"
          ]
        },
        {
          "name": "stderr",
          "output_type": "stream",
          "text": [
            "Evaluating: 100%|██████████| 16/16 [00:00<00:00, 39.16it/s]\n"
          ]
        },
        {
          "name": "stdout",
          "output_type": "stream",
          "text": [
            "Validation Loss: 0.0126, Accuracy: 0.9977, F1: 0.9978\n",
            "Epoch 42/70\n"
          ]
        },
        {
          "name": "stderr",
          "output_type": "stream",
          "text": [
            "Training: 100%|██████████| 61/61 [00:05<00:00, 11.99it/s, loss=1.5e-5]\n"
          ]
        },
        {
          "name": "stdout",
          "output_type": "stream",
          "text": [
            "Train Loss: 0.0001, Accuracy: 1.0000\n"
          ]
        },
        {
          "name": "stderr",
          "output_type": "stream",
          "text": [
            "Evaluating: 100%|██████████| 16/16 [00:00<00:00, 39.43it/s]\n"
          ]
        },
        {
          "name": "stdout",
          "output_type": "stream",
          "text": [
            "Validation Loss: 0.0118, Accuracy: 0.9980, F1: 0.9980\n",
            "Epoch 43/70\n"
          ]
        },
        {
          "name": "stderr",
          "output_type": "stream",
          "text": [
            "Training: 100%|██████████| 61/61 [00:05<00:00, 11.93it/s, loss=2.76e-5]\n"
          ]
        },
        {
          "name": "stdout",
          "output_type": "stream",
          "text": [
            "Train Loss: 0.0001, Accuracy: 1.0000\n"
          ]
        },
        {
          "name": "stderr",
          "output_type": "stream",
          "text": [
            "Evaluating: 100%|██████████| 16/16 [00:00<00:00, 39.55it/s]\n"
          ]
        },
        {
          "name": "stdout",
          "output_type": "stream",
          "text": [
            "Validation Loss: 0.0122, Accuracy: 0.9978, F1: 0.9978\n",
            "Epoch 44/70\n"
          ]
        },
        {
          "name": "stderr",
          "output_type": "stream",
          "text": [
            "Training: 100%|██████████| 61/61 [00:05<00:00, 11.97it/s, loss=6.38e-6]\n"
          ]
        },
        {
          "name": "stdout",
          "output_type": "stream",
          "text": [
            "Train Loss: 0.0000, Accuracy: 1.0000\n"
          ]
        },
        {
          "name": "stderr",
          "output_type": "stream",
          "text": [
            "Evaluating: 100%|██████████| 16/16 [00:00<00:00, 39.44it/s]\n"
          ]
        },
        {
          "name": "stdout",
          "output_type": "stream",
          "text": [
            "Validation Loss: 0.0119, Accuracy: 0.9979, F1: 0.9979\n",
            "Epoch 45/70\n"
          ]
        },
        {
          "name": "stderr",
          "output_type": "stream",
          "text": [
            "Training: 100%|██████████| 61/61 [00:05<00:00, 11.92it/s, loss=1.68e-5]\n"
          ]
        },
        {
          "name": "stdout",
          "output_type": "stream",
          "text": [
            "Train Loss: 0.0000, Accuracy: 1.0000\n"
          ]
        },
        {
          "name": "stderr",
          "output_type": "stream",
          "text": [
            "Evaluating: 100%|██████████| 16/16 [00:00<00:00, 39.59it/s]\n"
          ]
        },
        {
          "name": "stdout",
          "output_type": "stream",
          "text": [
            "Validation Loss: 0.0121, Accuracy: 0.9979, F1: 0.9979\n",
            "Epoch 46/70\n"
          ]
        },
        {
          "name": "stderr",
          "output_type": "stream",
          "text": [
            "Training: 100%|██████████| 61/61 [00:05<00:00, 11.99it/s, loss=9.87e-6]\n"
          ]
        },
        {
          "name": "stdout",
          "output_type": "stream",
          "text": [
            "Train Loss: 0.0000, Accuracy: 1.0000\n"
          ]
        },
        {
          "name": "stderr",
          "output_type": "stream",
          "text": [
            "Evaluating: 100%|██████████| 16/16 [00:00<00:00, 39.40it/s]\n"
          ]
        },
        {
          "name": "stdout",
          "output_type": "stream",
          "text": [
            "Validation Loss: 0.0122, Accuracy: 0.9979, F1: 0.9979\n",
            "Epoch 47/70\n"
          ]
        },
        {
          "name": "stderr",
          "output_type": "stream",
          "text": [
            "Training: 100%|██████████| 61/61 [00:05<00:00, 11.94it/s, loss=1.31e-5]\n"
          ]
        },
        {
          "name": "stdout",
          "output_type": "stream",
          "text": [
            "Train Loss: 0.0000, Accuracy: 1.0000\n"
          ]
        },
        {
          "name": "stderr",
          "output_type": "stream",
          "text": [
            "Evaluating: 100%|██████████| 16/16 [00:00<00:00, 39.36it/s]\n"
          ]
        },
        {
          "name": "stdout",
          "output_type": "stream",
          "text": [
            "Validation Loss: 0.0124, Accuracy: 0.9980, F1: 0.9980\n",
            "Epoch 48/70\n"
          ]
        },
        {
          "name": "stderr",
          "output_type": "stream",
          "text": [
            "Training: 100%|██████████| 61/61 [00:05<00:00, 11.97it/s, loss=1.36e-5]\n"
          ]
        },
        {
          "name": "stdout",
          "output_type": "stream",
          "text": [
            "Train Loss: 0.0000, Accuracy: 1.0000\n"
          ]
        },
        {
          "name": "stderr",
          "output_type": "stream",
          "text": [
            "Evaluating: 100%|██████████| 16/16 [00:00<00:00, 39.54it/s]\n"
          ]
        },
        {
          "name": "stdout",
          "output_type": "stream",
          "text": [
            "Validation Loss: 0.0127, Accuracy: 0.9980, F1: 0.9980\n",
            "Epoch 49/70\n"
          ]
        },
        {
          "name": "stderr",
          "output_type": "stream",
          "text": [
            "Training: 100%|██████████| 61/61 [00:05<00:00, 11.93it/s, loss=1.02e-5]\n"
          ]
        },
        {
          "name": "stdout",
          "output_type": "stream",
          "text": [
            "Train Loss: 0.0000, Accuracy: 1.0000\n"
          ]
        },
        {
          "name": "stderr",
          "output_type": "stream",
          "text": [
            "Evaluating: 100%|██████████| 16/16 [00:00<00:00, 39.37it/s]\n"
          ]
        },
        {
          "name": "stdout",
          "output_type": "stream",
          "text": [
            "Validation Loss: 0.0128, Accuracy: 0.9980, F1: 0.9980\n",
            "Epoch 50/70\n"
          ]
        },
        {
          "name": "stderr",
          "output_type": "stream",
          "text": [
            "Training: 100%|██████████| 61/61 [00:05<00:00, 11.97it/s, loss=8.75e-6]\n"
          ]
        },
        {
          "name": "stdout",
          "output_type": "stream",
          "text": [
            "Train Loss: 0.0001, Accuracy: 1.0000\n"
          ]
        },
        {
          "name": "stderr",
          "output_type": "stream",
          "text": [
            "Evaluating: 100%|██████████| 16/16 [00:00<00:00, 39.42it/s]\n"
          ]
        },
        {
          "name": "stdout",
          "output_type": "stream",
          "text": [
            "Validation Loss: 0.0127, Accuracy: 0.9979, F1: 0.9979\n",
            "Epoch 51/70\n"
          ]
        },
        {
          "name": "stderr",
          "output_type": "stream",
          "text": [
            "Training: 100%|██████████| 61/61 [00:05<00:00, 11.90it/s, loss=0.000152]\n"
          ]
        },
        {
          "name": "stdout",
          "output_type": "stream",
          "text": [
            "Train Loss: 0.0001, Accuracy: 1.0000\n"
          ]
        },
        {
          "name": "stderr",
          "output_type": "stream",
          "text": [
            "Evaluating: 100%|██████████| 16/16 [00:00<00:00, 39.36it/s]\n"
          ]
        },
        {
          "name": "stdout",
          "output_type": "stream",
          "text": [
            "Validation Loss: 0.0133, Accuracy: 0.9979, F1: 0.9980\n",
            "Epoch 52/70\n"
          ]
        },
        {
          "name": "stderr",
          "output_type": "stream",
          "text": [
            "Training: 100%|██████████| 61/61 [00:05<00:00, 11.95it/s, loss=1.23e-5]\n"
          ]
        },
        {
          "name": "stdout",
          "output_type": "stream",
          "text": [
            "Train Loss: 0.0000, Accuracy: 1.0000\n"
          ]
        },
        {
          "name": "stderr",
          "output_type": "stream",
          "text": [
            "Evaluating: 100%|██████████| 16/16 [00:00<00:00, 39.49it/s]\n"
          ]
        },
        {
          "name": "stdout",
          "output_type": "stream",
          "text": [
            "Validation Loss: 0.0133, Accuracy: 0.9979, F1: 0.9980\n",
            "Epoch 53/70\n"
          ]
        },
        {
          "name": "stderr",
          "output_type": "stream",
          "text": [
            "Training: 100%|██████████| 61/61 [00:05<00:00, 11.97it/s, loss=7.85e-6]\n"
          ]
        },
        {
          "name": "stdout",
          "output_type": "stream",
          "text": [
            "Train Loss: 0.0000, Accuracy: 1.0000\n"
          ]
        },
        {
          "name": "stderr",
          "output_type": "stream",
          "text": [
            "Evaluating: 100%|██████████| 16/16 [00:00<00:00, 39.14it/s]\n"
          ]
        },
        {
          "name": "stdout",
          "output_type": "stream",
          "text": [
            "Validation Loss: 0.0133, Accuracy: 0.9980, F1: 0.9980\n",
            "Epoch 54/70\n"
          ]
        },
        {
          "name": "stderr",
          "output_type": "stream",
          "text": [
            "Training: 100%|██████████| 61/61 [00:05<00:00, 11.94it/s, loss=6.8e-6]\n"
          ]
        },
        {
          "name": "stdout",
          "output_type": "stream",
          "text": [
            "Train Loss: 0.0000, Accuracy: 1.0000\n"
          ]
        },
        {
          "name": "stderr",
          "output_type": "stream",
          "text": [
            "Evaluating: 100%|██████████| 16/16 [00:00<00:00, 39.49it/s]\n"
          ]
        },
        {
          "name": "stdout",
          "output_type": "stream",
          "text": [
            "Validation Loss: 0.0136, Accuracy: 0.9979, F1: 0.9980\n",
            "Epoch 55/70\n"
          ]
        },
        {
          "name": "stderr",
          "output_type": "stream",
          "text": [
            "Training: 100%|██████████| 61/61 [00:05<00:00, 11.96it/s, loss=7.57e-5]\n"
          ]
        },
        {
          "name": "stdout",
          "output_type": "stream",
          "text": [
            "Train Loss: 0.0000, Accuracy: 1.0000\n"
          ]
        },
        {
          "name": "stderr",
          "output_type": "stream",
          "text": [
            "Evaluating: 100%|██████████| 16/16 [00:00<00:00, 39.25it/s]\n"
          ]
        },
        {
          "name": "stdout",
          "output_type": "stream",
          "text": [
            "Validation Loss: 0.0139, Accuracy: 0.9979, F1: 0.9979\n",
            "Epoch 56/70\n"
          ]
        },
        {
          "name": "stderr",
          "output_type": "stream",
          "text": [
            "Training: 100%|██████████| 61/61 [00:05<00:00, 11.94it/s, loss=1.11e-5]\n"
          ]
        },
        {
          "name": "stdout",
          "output_type": "stream",
          "text": [
            "Train Loss: 0.0000, Accuracy: 1.0000\n"
          ]
        },
        {
          "name": "stderr",
          "output_type": "stream",
          "text": [
            "Evaluating: 100%|██████████| 16/16 [00:00<00:00, 39.49it/s]\n"
          ]
        },
        {
          "name": "stdout",
          "output_type": "stream",
          "text": [
            "Validation Loss: 0.0143, Accuracy: 0.9977, F1: 0.9977\n",
            "Epoch 57/70\n"
          ]
        },
        {
          "name": "stderr",
          "output_type": "stream",
          "text": [
            "Training: 100%|██████████| 61/61 [00:05<00:00, 11.95it/s, loss=9.19e-6]\n"
          ]
        },
        {
          "name": "stdout",
          "output_type": "stream",
          "text": [
            "Train Loss: 0.0000, Accuracy: 1.0000\n"
          ]
        },
        {
          "name": "stderr",
          "output_type": "stream",
          "text": [
            "Evaluating: 100%|██████████| 16/16 [00:00<00:00, 39.37it/s]\n"
          ]
        },
        {
          "name": "stdout",
          "output_type": "stream",
          "text": [
            "Validation Loss: 0.0141, Accuracy: 0.9979, F1: 0.9979\n",
            "Epoch 58/70\n"
          ]
        },
        {
          "name": "stderr",
          "output_type": "stream",
          "text": [
            "Training: 100%|██████████| 61/61 [00:05<00:00, 11.94it/s, loss=9.3e-6]\n"
          ]
        },
        {
          "name": "stdout",
          "output_type": "stream",
          "text": [
            "Train Loss: 0.0000, Accuracy: 1.0000\n"
          ]
        },
        {
          "name": "stderr",
          "output_type": "stream",
          "text": [
            "Evaluating: 100%|██████████| 16/16 [00:00<00:00, 39.50it/s]\n"
          ]
        },
        {
          "name": "stdout",
          "output_type": "stream",
          "text": [
            "Validation Loss: 0.0144, Accuracy: 0.9979, F1: 0.9979\n",
            "Epoch 59/70\n"
          ]
        },
        {
          "name": "stderr",
          "output_type": "stream",
          "text": [
            "Training: 100%|██████████| 61/61 [00:05<00:00, 11.95it/s, loss=4.89e-6]\n"
          ]
        },
        {
          "name": "stdout",
          "output_type": "stream",
          "text": [
            "Train Loss: 0.0000, Accuracy: 1.0000\n"
          ]
        },
        {
          "name": "stderr",
          "output_type": "stream",
          "text": [
            "Evaluating: 100%|██████████| 16/16 [00:00<00:00, 39.14it/s]\n"
          ]
        },
        {
          "name": "stdout",
          "output_type": "stream",
          "text": [
            "Validation Loss: 0.0144, Accuracy: 0.9979, F1: 0.9979\n",
            "Epoch 60/70\n"
          ]
        },
        {
          "name": "stderr",
          "output_type": "stream",
          "text": [
            "Training: 100%|██████████| 61/61 [00:05<00:00, 11.93it/s, loss=7.97e-6]\n"
          ]
        },
        {
          "name": "stdout",
          "output_type": "stream",
          "text": [
            "Train Loss: 0.0000, Accuracy: 1.0000\n"
          ]
        },
        {
          "name": "stderr",
          "output_type": "stream",
          "text": [
            "Evaluating: 100%|██████████| 16/16 [00:00<00:00, 39.09it/s]\n"
          ]
        },
        {
          "name": "stdout",
          "output_type": "stream",
          "text": [
            "Validation Loss: 0.0142, Accuracy: 0.9979, F1: 0.9979\n",
            "Epoch 61/70\n"
          ]
        },
        {
          "name": "stderr",
          "output_type": "stream",
          "text": [
            "Training: 100%|██████████| 61/61 [00:05<00:00, 11.91it/s, loss=1.22e-5]\n"
          ]
        },
        {
          "name": "stdout",
          "output_type": "stream",
          "text": [
            "Train Loss: 0.0000, Accuracy: 1.0000\n"
          ]
        },
        {
          "name": "stderr",
          "output_type": "stream",
          "text": [
            "Evaluating: 100%|██████████| 16/16 [00:00<00:00, 39.08it/s]\n"
          ]
        },
        {
          "name": "stdout",
          "output_type": "stream",
          "text": [
            "Validation Loss: 0.0142, Accuracy: 0.9979, F1: 0.9979\n",
            "Epoch 62/70\n"
          ]
        },
        {
          "name": "stderr",
          "output_type": "stream",
          "text": [
            "Training: 100%|██████████| 61/61 [00:05<00:00, 11.90it/s, loss=2.22e-5]\n"
          ]
        },
        {
          "name": "stdout",
          "output_type": "stream",
          "text": [
            "Train Loss: 0.0000, Accuracy: 1.0000\n"
          ]
        },
        {
          "name": "stderr",
          "output_type": "stream",
          "text": [
            "Evaluating: 100%|██████████| 16/16 [00:00<00:00, 39.15it/s]\n"
          ]
        },
        {
          "name": "stdout",
          "output_type": "stream",
          "text": [
            "Validation Loss: 0.0143, Accuracy: 0.9979, F1: 0.9979\n",
            "Epoch 63/70\n"
          ]
        },
        {
          "name": "stderr",
          "output_type": "stream",
          "text": [
            "Training: 100%|██████████| 61/61 [00:05<00:00, 11.91it/s, loss=8.6e-6]\n"
          ]
        },
        {
          "name": "stdout",
          "output_type": "stream",
          "text": [
            "Train Loss: 0.0000, Accuracy: 1.0000\n"
          ]
        },
        {
          "name": "stderr",
          "output_type": "stream",
          "text": [
            "Evaluating: 100%|██████████| 16/16 [00:00<00:00, 38.89it/s]\n"
          ]
        },
        {
          "name": "stdout",
          "output_type": "stream",
          "text": [
            "Validation Loss: 0.0143, Accuracy: 0.9980, F1: 0.9980\n",
            "Epoch 64/70\n"
          ]
        },
        {
          "name": "stderr",
          "output_type": "stream",
          "text": [
            "Training: 100%|██████████| 61/61 [00:05<00:00, 11.90it/s, loss=6.05e-6]\n"
          ]
        },
        {
          "name": "stdout",
          "output_type": "stream",
          "text": [
            "Train Loss: 0.0000, Accuracy: 1.0000\n"
          ]
        },
        {
          "name": "stderr",
          "output_type": "stream",
          "text": [
            "Evaluating: 100%|██████████| 16/16 [00:00<00:00, 39.08it/s]\n"
          ]
        },
        {
          "name": "stdout",
          "output_type": "stream",
          "text": [
            "Validation Loss: 0.0143, Accuracy: 0.9980, F1: 0.9980\n",
            "Epoch 65/70\n"
          ]
        },
        {
          "name": "stderr",
          "output_type": "stream",
          "text": [
            "Training: 100%|██████████| 61/61 [00:05<00:00, 11.90it/s, loss=1.56e-5]\n"
          ]
        },
        {
          "name": "stdout",
          "output_type": "stream",
          "text": [
            "Train Loss: 0.0000, Accuracy: 1.0000\n"
          ]
        },
        {
          "name": "stderr",
          "output_type": "stream",
          "text": [
            "Evaluating: 100%|██████████| 16/16 [00:00<00:00, 39.26it/s]\n"
          ]
        },
        {
          "name": "stdout",
          "output_type": "stream",
          "text": [
            "Validation Loss: 0.0143, Accuracy: 0.9980, F1: 0.9980\n",
            "Epoch 66/70\n"
          ]
        },
        {
          "name": "stderr",
          "output_type": "stream",
          "text": [
            "Training: 100%|██████████| 61/61 [00:05<00:00, 11.91it/s, loss=7.41e-6]\n"
          ]
        },
        {
          "name": "stdout",
          "output_type": "stream",
          "text": [
            "Train Loss: 0.0000, Accuracy: 1.0000\n"
          ]
        },
        {
          "name": "stderr",
          "output_type": "stream",
          "text": [
            "Evaluating: 100%|██████████| 16/16 [00:00<00:00, 39.10it/s]\n"
          ]
        },
        {
          "name": "stdout",
          "output_type": "stream",
          "text": [
            "Validation Loss: 0.0143, Accuracy: 0.9980, F1: 0.9980\n",
            "Epoch 67/70\n"
          ]
        },
        {
          "name": "stderr",
          "output_type": "stream",
          "text": [
            "Training: 100%|██████████| 61/61 [00:05<00:00, 11.89it/s, loss=7.14e-6]\n"
          ]
        },
        {
          "name": "stdout",
          "output_type": "stream",
          "text": [
            "Train Loss: 0.0000, Accuracy: 1.0000\n"
          ]
        },
        {
          "name": "stderr",
          "output_type": "stream",
          "text": [
            "Evaluating: 100%|██████████| 16/16 [00:00<00:00, 39.21it/s]\n"
          ]
        },
        {
          "name": "stdout",
          "output_type": "stream",
          "text": [
            "Validation Loss: 0.0143, Accuracy: 0.9980, F1: 0.9980\n",
            "Epoch 68/70\n"
          ]
        },
        {
          "name": "stderr",
          "output_type": "stream",
          "text": [
            "Training: 100%|██████████| 61/61 [00:05<00:00, 11.91it/s, loss=1.17e-5]\n"
          ]
        },
        {
          "name": "stdout",
          "output_type": "stream",
          "text": [
            "Train Loss: 0.0000, Accuracy: 1.0000\n"
          ]
        },
        {
          "name": "stderr",
          "output_type": "stream",
          "text": [
            "Evaluating: 100%|██████████| 16/16 [00:00<00:00, 39.25it/s]\n"
          ]
        },
        {
          "name": "stdout",
          "output_type": "stream",
          "text": [
            "Validation Loss: 0.0143, Accuracy: 0.9980, F1: 0.9980\n",
            "Epoch 69/70\n"
          ]
        },
        {
          "name": "stderr",
          "output_type": "stream",
          "text": [
            "Training: 100%|██████████| 61/61 [00:05<00:00, 11.90it/s, loss=1.15e-5]\n"
          ]
        },
        {
          "name": "stdout",
          "output_type": "stream",
          "text": [
            "Train Loss: 0.0000, Accuracy: 1.0000\n"
          ]
        },
        {
          "name": "stderr",
          "output_type": "stream",
          "text": [
            "Evaluating: 100%|██████████| 16/16 [00:00<00:00, 39.04it/s]\n"
          ]
        },
        {
          "name": "stdout",
          "output_type": "stream",
          "text": [
            "Validation Loss: 0.0144, Accuracy: 0.9979, F1: 0.9979\n",
            "Epoch 70/70\n"
          ]
        },
        {
          "name": "stderr",
          "output_type": "stream",
          "text": [
            "Training: 100%|██████████| 61/61 [00:05<00:00, 11.89it/s, loss=5.38e-6]\n"
          ]
        },
        {
          "name": "stdout",
          "output_type": "stream",
          "text": [
            "Train Loss: 0.0000, Accuracy: 1.0000\n"
          ]
        },
        {
          "name": "stderr",
          "output_type": "stream",
          "text": [
            "Evaluating: 100%|██████████| 16/16 [00:00<00:00, 39.26it/s]"
          ]
        },
        {
          "name": "stdout",
          "output_type": "stream",
          "text": [
            "Validation Loss: 0.0144, Accuracy: 0.9979, F1: 0.9979\n",
            "Training complete!\n"
          ]
        },
        {
          "name": "stderr",
          "output_type": "stream",
          "text": [
            "\n"
          ]
        }
      ],
      "source": [
        "# Training loop\n",
        "results = {\n",
        "    'train_loss': [],\n",
        "    'train_accuracy': [],\n",
        "    'val_loss': [],\n",
        "    'val_accuracy': [],\n",
        "    'val_f1': []\n",
        "}\n",
        "\n",
        "# Create directory for saving models\n",
        "os.makedirs('models', exist_ok=True)\n",
        "\n",
        "best_val_f1 = 0.0\n",
        "\n",
        "print(\"Starting training...\")\n",
        "for epoch in range(num_epochs):\n",
        "    print(f\"Epoch {epoch+1}/{num_epochs}\")\n",
        "\n",
        "    # Train\n",
        "    train_metrics = train_epoch(model, train_loader, optimizer, scheduler, device)\n",
        "    print(f\"Train Loss: {train_metrics['loss']:.4f}, Accuracy: {train_metrics['accuracy']:.4f}\")\n",
        "\n",
        "    # Evaluate\n",
        "    val_metrics = evaluate(model, val_loader, device)\n",
        "    print(f\"Validation Loss: {val_metrics['loss']:.4f}, Accuracy: {val_metrics['accuracy']:.4f}, F1: {val_metrics['f1']:.4f}\")\n",
        "\n",
        "    # Store results\n",
        "    results['train_loss'].append(train_metrics['loss'])\n",
        "    results['train_accuracy'].append(train_metrics['accuracy'])\n",
        "    results['val_loss'].append(val_metrics['loss'])\n",
        "    results['val_accuracy'].append(val_metrics['accuracy'])\n",
        "    results['val_f1'].append(val_metrics['f1'])\n",
        "\n",
        "    # Save the model if it's the best so far\n",
        "    if val_metrics['f1'] > best_val_f1:\n",
        "        best_val_f1 = val_metrics['f1']\n",
        "        print(f\"New best model with F1: {best_val_f1:.4f}\")\n",
        "\n",
        "        # Save model and tokenizer\n",
        "        model_path = os.path.join('models', 'bert_ner_best')\n",
        "        model.save_pretrained(model_path)\n",
        "        tokenizer.save_pretrained(model_path)\n",
        "\n",
        "        # Save tag mapping\n",
        "        tag_mapping = {'0': 'O', '1': 'B-DISEASE', '2': 'I-DISEASE'}\n",
        "        import json\n",
        "        with open(os.path.join(model_path, 'tag_mapping.json'), 'w') as f:\n",
        "            json.dump(tag_mapping, f)\n",
        "\n",
        "        # Save training results\n",
        "        torch.save({\n",
        "            'results': results,\n",
        "            'epoch': epoch,\n",
        "            'best_val_f1': best_val_f1,\n",
        "        }, os.path.join(model_path, 'training_results.pt'))\n",
        "\n",
        "print(\"Training complete!\")"
      ]
    },
    {
      "cell_type": "code",
      "execution_count": 14,
      "id": "67112868",
      "metadata": {
        "colab": {
          "base_uri": "https://localhost:8080/",
          "height": 314
        },
        "id": "67112868",
        "outputId": "4afcff65-3bbb-4d48-b66b-f707416738d4"
      },
      "outputs": [
        {
          "data": {
            "image/png": "[encoded data removed]",
            "text/plain": [
              "<Figure size 1200x400 with 2 Axes>"
            ]
          },
          "metadata": {},
          "output_type": "display_data"
        }
      ],
      "source": [
        "# Plot training results\n",
        "%mkdir images\n",
        "import matplotlib.pyplot as plt\n",
        "\n",
        "plt.figure(figsize=(12, 4))\n",
        "\n",
        "plt.subplot(1, 2, 1)\n",
        "plt.plot(results['train_loss'], label='Train')\n",
        "plt.plot(results['val_loss'], label='Validation')\n",
        "plt.title('Loss')\n",
        "plt.xlabel('Epoch')\n",
        "plt.legend()\n",
        "\n",
        "plt.subplot(1, 2, 2)\n",
        "plt.plot(results['train_accuracy'], label='Train')\n",
        "plt.plot(results['val_accuracy'], label='Validation')\n",
        "plt.plot(results['val_f1'], label='Validation F1', linestyle='--')\n",
        "plt.title('Accuracy and F1')\n",
        "plt.xlabel('Epoch')\n",
        "plt.legend()\n",
        "\n",
        "plt.tight_layout()\n",
        "plt.savefig('images/ner_training_curves.png')\n",
        "plt.show()"
      ]
    },
    {
      "cell_type": "code",
      "execution_count": 15,
      "id": "fe5c4011",
      "metadata": {
        "colab": {
          "base_uri": "https://localhost:8080/"
        },
        "id": "fe5c4011",
        "outputId": "25b5f794-a7b9-4daa-dfb6-fb77e621485c"
      },
      "outputs": [
        {
          "name": "stdout",
          "output_type": "stream",
          "text": [
            "Text: Patient has a history of hypertension and type 2 diabetes.\n",
            "Tagged tokens: [('Patient', 'O'), ('has', 'O'), ('a', 'O'), ('history', 'O'), ('of', 'O'), ('hypertension', 'B-DISEASE'), ('and', 'O'), ('type', 'B-DISEASE'), ('2', 'I-DISEASE'), ('diabetes', 'I-DISEASE'), ('.', 'O')]\n",
            "Extracted diseases: ['hypertension', 'type 2 diabetes']\n"
          ]
        }
      ],
      "source": [
        "# Function to use the trained model for prediction\n",
        "def predict_diseases(text, model, tokenizer):\n",
        "    # Tokenize the text\n",
        "    tokens = nltk.word_tokenize(text)\n",
        "    token_tags = [(token, 'O') for token in tokens]  # Initialize with 'O' tags\n",
        "\n",
        "    # Process with BERT\n",
        "    bert_input = prepare_bert_input(token_tags, tokenizer)\n",
        "\n",
        "    # Convert to tensors\n",
        "    input_ids = torch.tensor(bert_input['input_ids']).unsqueeze(0).to(device)\n",
        "    attention_mask = torch.tensor(bert_input['attention_mask']).unsqueeze(0).to(device)\n",
        "\n",
        "    # Get predictions\n",
        "    with torch.no_grad():\n",
        "        outputs = model(input_ids=input_ids, attention_mask=attention_mask)\n",
        "        predictions = torch.argmax(outputs.logits, dim=2).squeeze(0).cpu().numpy()\n",
        "\n",
        "    # Map predictions back to tokens\n",
        "    id2tag = {0: 'O', 1: 'B-DISEASE', 2: 'I-DISEASE'}\n",
        "    tagged_tokens = []\n",
        "    word_ids = tokenizer(tokens, is_split_into_words=True).word_ids()\n",
        "\n",
        "    for i, word_idx in enumerate(word_ids):\n",
        "        if word_idx is not None:  # Skip special tokens\n",
        "            if i < len(predictions):\n",
        "                prediction = id2tag[predictions[i]]\n",
        "                if word_idx >= len(tagged_tokens):\n",
        "                    tagged_tokens.append((tokens[word_idx], prediction))\n",
        "                # Otherwise skip (word piece continuation)\n",
        "\n",
        "    # Extract disease entities\n",
        "    diseases = []\n",
        "    current_disease = []\n",
        "\n",
        "    for token, tag in tagged_tokens:\n",
        "        if tag == 'B-DISEASE':\n",
        "            if current_disease:\n",
        "                diseases.append(' '.join(current_disease))\n",
        "                current_disease = []\n",
        "            current_disease.append(token)\n",
        "        elif tag == 'I-DISEASE' and current_disease:\n",
        "            current_disease.append(token)\n",
        "        elif current_disease:\n",
        "            diseases.append(' '.join(current_disease))\n",
        "            current_disease = []\n",
        "\n",
        "    if current_disease:\n",
        "        diseases.append(' '.join(current_disease))\n",
        "\n",
        "    return {\n",
        "        'text': text,\n",
        "        'tokens': tokens,\n",
        "        'tagged_tokens': tagged_tokens,\n",
        "        'extracted_diseases': diseases\n",
        "    }\n",
        "\n",
        "# Example usage:\n",
        "test_text = \"Patient has a history of hypertension and type 2 diabetes.\"\n",
        "result = predict_diseases(test_text, model, tokenizer)\n",
        "print(f\"Text: {result['text']}\")\n",
        "print(f\"Tagged tokens: {result['tagged_tokens']}\")\n",
        "print(f\"Extracted diseases: {result['extracted_diseases']}\")\n",
        "\n",
        "# Save the final model\n",
        "final_model_path = os.path.join('models', 'bert_ner_final')\n",
        "model.save_pretrained(final_model_path)\n",
        "tokenizer.save_pretrained(final_model_path)\n",
        "\n",
        "# Save evaluation results and model information\n",
        "with open(os.path.join(final_model_path, 'model_info.txt'), 'w') as f:\n",
        "    f.write(f\"Training completed with {num_epochs} epochs\\n\")\n",
        "    f.write(f\"Final validation accuracy: {results['val_accuracy'][-1]:.4f}\\n\")\n",
        "    f.write(f\"Final validation F1 score: {results['val_f1'][-1]:.4f}\\n\")\n",
        "    f.write(f\"Best validation F1 score: {best_val_f1:.4f}\\n\")"
      ]
    },
    {
      "cell_type": "code",
      "execution_count": 18,
      "id": "2988ae28",
      "metadata": {
        "id": "2988ae28"
      },
      "outputs": [],
      "source": [
        "# Create a comprehensive metrics table\n",
        "import pandas as pd\n",
        "import numpy as np\n",
        "\n",
        "# Extract the last epoch's validation metrics (already have accuracy and f1)\n",
        "val_accuracy = results['val_accuracy'][-1]\n",
        "val_f1 = results['val_f1'][-1]\n",
        "\n",
        "# We need to calculate precision and recall\n",
        "# Load validation data and get predictions\n",
        "all_preds = []\n",
        "all_labels = []\n",
        "\n",
        "model.eval()\n",
        "with torch.no_grad():\n",
        "    for batch in val_loader:\n",
        "        input_ids = batch['input_ids'].to(device)\n",
        "        attention_mask = batch['attention_mask'].to(device)\n",
        "        labels = batch['labels'].to(device)\n",
        "\n",
        "        outputs = model(input_ids=input_ids, attention_mask=attention_mask)\n",
        "        logits = outputs.logits\n",
        "\n",
        "        # Get predictions\n",
        "        preds = torch.argmax(logits, dim=2).detach().cpu().numpy()\n",
        "        label_ids = labels.detach().cpu().numpy()\n",
        "\n",
        "        all_preds.append(preds)\n",
        "        all_labels.append(label_ids)\n",
        "\n",
        "# Flatten the predictions and labels for metrics calculation\n",
        "all_preds_flat = np.concatenate([p.flatten() for p in all_preds])\n",
        "all_labels_flat = np.concatenate([l.flatten() for l in all_labels])\n",
        "\n",
        "# Remove padding (-100) tokens\n",
        "mask = all_labels_flat != -100\n",
        "all_preds_flat = all_preds_flat[mask]\n",
        "all_labels_flat = all_labels_flat[mask]\n",
        "\n",
        "# Calculate metrics\n",
        "from sklearn.metrics import precision_score, recall_score, f1_score, accuracy_score, roc_auc_score\n",
        "\n",
        "# For binary metrics, we'll treat disease tags (1 and 2) as positive class\n",
        "binary_preds = (all_preds_flat > 0).astype(int)\n",
        "binary_labels = (all_labels_flat > 0).astype(int)\n",
        "\n",
        "# Calculate metrics\n",
        "precision = precision_score(binary_labels, binary_preds)\n",
        "recall = recall_score(binary_labels, binary_preds)\n",
        "f1 = f1_score(binary_labels, binary_preds)\n",
        "accuracy = accuracy_score(binary_labels, binary_preds)\n",
        "\n",
        "# For AUC, we need probabilities\n",
        "prob_preds = []\n",
        "with torch.no_grad():\n",
        "    for batch in val_loader:\n",
        "        input_ids = batch['input_ids'].to(device)\n",
        "        attention_mask = batch['attention_mask'].to(device)\n",
        "\n",
        "        outputs = model(input_ids=input_ids, attention_mask=attention_mask)\n",
        "        logits = outputs.logits\n",
        "\n",
        "        # Get probability for disease tags (average of class 1 and 2)\n",
        "        probs = torch.softmax(logits, dim=2)\n",
        "        disease_probs = probs[:,:,1:].mean(dim=2).detach().cpu().numpy()\n",
        "        prob_preds.append(disease_probs)\n",
        "\n",
        "prob_preds_flat = np.concatenate([p.flatten() for p in prob_preds])\n",
        "prob_preds_flat = prob_preds_flat[:len(binary_labels)]  # Match lengths\n",
        "\n",
        "# Calculate AUC\n",
        "auc_score = roc_auc_score(binary_labels, prob_preds_flat)\n",
        "\n",
        "# Create metrics table\n",
        "metrics_df = pd.DataFrame({\n",
        "    'Accuracy': [accuracy],\n",
        "    'Precision': [precision],\n",
        "    'Recall': [recall],\n",
        "    'F1 Score': [f1],\n",
        "    'AUC': [auc_score],\n",
        "})\n",
        "\n",
        "import pickle\n",
        "%mkdir models/bert_ner_eval\n",
        "\n",
        "# Save the metrics to a pickle file\n",
        "with open('models/bert_ner_eval/ner_metrics.pkl', 'wb') as f:\n",
        "    pickle.dump(metrics_df, f)\n",
        "\n",
        "with open('models/bert_ner_eval/binary_labels.pkl', 'wb') as f:\n",
        "    pickle.dump(binary_labels, f)\n",
        "\n",
        "with open('models/bert_ner_eval/prob_preds_flat.pkl', 'wb') as f:\n",
        "    pickle.dump(prob_preds_flat, f)"
      ]
    },
    {
      "cell_type": "code",
      "execution_count": 20,
      "id": "9082bdf1",
      "metadata": {
        "colab": {
          "base_uri": "https://localhost:8080/",
          "height": 451
        },
        "id": "9082bdf1",
        "outputId": "69e973e3-0d1c-469b-8dc6-49ef0934495e"
      },
      "outputs": [
        {
          "name": "stdout",
          "output_type": "stream",
          "text": [
            "updating: models/ (stored 0%)\n",
            "updating: models/bert_ner_eval/ (stored 0%)\n",
            "updating: models/bert_ner_eval/ner_metrics.pkl (deflated 31%)\n",
            "updating: models/bert_ner_eval/binary_labels.pkl (deflated 100%)\n",
            "updating: models/bert_ner_eval/prob_preds_flat.pkl (deflated 32%)\n",
            "updating: models/bert_ner_best/ (stored 0%)\n",
            "updating: models/bert_ner_best/model.safetensors (deflated 7%)\n",
            "updating: models/bert_ner_best/training_results.pt (deflated 54%)\n",
            "updating: models/bert_ner_best/vocab.txt (deflated 49%)\n",
            "updating: models/bert_ner_best/tokenizer_config.json (deflated 74%)\n",
            "updating: models/bert_ner_best/config.json (deflated 51%)\n",
            "updating: models/bert_ner_best/tokenizer.json (deflated 70%)\n",
            "updating: models/bert_ner_best/special_tokens_map.json (deflated 42%)\n",
            "updating: models/bert_ner_best/tag_mapping.json (deflated 26%)\n",
            "updating: models/bert_ner_final/ (stored 0%)\n",
            "updating: models/bert_ner_final/model.safetensors (deflated 7%)\n",
            "updating: models/bert_ner_final/model_info.txt (deflated 34%)\n",
            "updating: models/bert_ner_final/vocab.txt (deflated 49%)\n",
            "updating: models/bert_ner_final/tokenizer_config.json (deflated 74%)\n",
            "updating: models/bert_ner_final/config.json (deflated 51%)\n",
            "updating: models/bert_ner_final/tokenizer.json (deflated 70%)\n",
            "updating: models/bert_ner_final/special_tokens_map.json (deflated 42%)\n",
            "  adding: images/ (stored 0%)\n",
            "  adding: images/ner_training_curves.png (deflated 11%)\n"
          ]
        },
        {
          "data": {
            "application/javascript": "\n    async function download(id, filename, size) {\n      if (!google.colab.kernel.accessAllowed) {\n        return;\n      }\n      const div = document.createElement('div');\n      const label = document.createElement('label');\n      label.textContent = `Downloading \"${filename}\": `;\n      div.appendChild(label);\n      const progress = document.createElement('progress');\n      progress.max = size;\n      div.appendChild(progress);\n      document.body.appendChild(div);\n\n      const buffers = [];\n      let downloaded = 0;\n\n      const channel = await google.colab.kernel.comms.open(id);\n      // Send a message to notify the kernel that we're ready.\n      channel.send({})\n\n      for await (const message of channel.messages) {\n        // Send a message to notify the kernel that we're ready.\n        channel.send({})\n        if (message.buffers) {\n          for (const buffer of message.buffers) {\n            buffers.push(buffer);\n            downloaded += buffer.byteLength;\n            progress.value = downloaded;\n          }\n        }\n      }\n      const blob = new Blob(buffers, {type: 'application/binary'});\n      const a = document.createElement('a');\n      a.href = window.URL.createObjectURL(blob);\n      a.download = filename;\n      div.appendChild(a);\n      a.click();\n      div.remove();\n    }\n  ",
            "text/plain": [
              "<IPython.core.display.Javascript object>"
            ]
          },
          "metadata": {},
          "output_type": "display_data"
        },
        {
          "data": {
            "application/javascript": "download(\"download_b8657dfd-e295-4c65-81a6-5de66ebd5eba\", \"models.zip\", 799210199)",
            "text/plain": [
              "<IPython.core.display.Javascript object>"
            ]
          },
          "metadata": {},
          "output_type": "display_data"
        },
        {
          "data": {
            "application/javascript": "\n    async function download(id, filename, size) {\n      if (!google.colab.kernel.accessAllowed) {\n        return;\n      }\n      const div = document.createElement('div');\n      const label = document.createElement('label');\n      label.textContent = `Downloading \"${filename}\": `;\n      div.appendChild(label);\n      const progress = document.createElement('progress');\n      progress.max = size;\n      div.appendChild(progress);\n      document.body.appendChild(div);\n\n      const buffers = [];\n      let downloaded = 0;\n\n      const channel = await google.colab.kernel.comms.open(id);\n      // Send a message to notify the kernel that we're ready.\n      channel.send({})\n\n      for await (const message of channel.messages) {\n        // Send a message to notify the kernel that we're ready.\n        channel.send({})\n        if (message.buffers) {\n          for (const buffer of message.buffers) {\n            buffers.push(buffer);\n            downloaded += buffer.byteLength;\n            progress.value = downloaded;\n          }\n        }\n      }\n      const blob = new Blob(buffers, {type: 'application/binary'});\n      const a = document.createElement('a');\n      a.href = window.URL.createObjectURL(blob);\n      a.download = filename;\n      div.appendChild(a);\n      a.click();\n      div.remove();\n    }\n  ",
            "text/plain": [
              "<IPython.core.display.Javascript object>"
            ]
          },
          "metadata": {},
          "output_type": "display_data"
        },
        {
          "data": {
            "application/javascript": "download(\"download_3440e082-62d6-48ed-b02c-076c4bbc1321\", \"images.zip\", 39504)",
            "text/plain": [
              "<IPython.core.display.Javascript object>"
            ]
          },
          "metadata": {},
          "output_type": "display_data"
        },
        {
          "name": "stdout",
          "output_type": "stream",
          "text": [
            "Download complete. You can now use the trained model for predictions.\n"
          ]
        }
      ],
      "source": [
        "# zip the models directory\n",
        "!zip -r models.zip models\n",
        "!zip -r images.zip images\n",
        "\n",
        "# download from colab\n",
        "from google.colab import files\n",
        "\n",
        "# download the models and images\n",
        "files.download('images.zip')\n",
        "\n",
        "!echo \"Download complete. You can now use the trained model for predictions.\""
      ]
    },
    {
      "cell_type": "code",
      "execution_count": 21,
      "id": "AX9M9y1s6brR",
      "metadata": {
        "colab": {
          "base_uri": "https://localhost:8080/",
          "height": 17
        },
        "id": "AX9M9y1s6brR",
        "outputId": "fb915cf8-cd70-46f6-fe40-1651739a208b"
      },
      "outputs": [
        {
          "data": {
            "application/javascript": "\n    async function download(id, filename, size) {\n      if (!google.colab.kernel.accessAllowed) {\n        return;\n      }\n      const div = document.createElement('div');\n      const label = document.createElement('label');\n      label.textContent = `Downloading \"${filename}\": `;\n      div.appendChild(label);\n      const progress = document.createElement('progress');\n      progress.max = size;\n      div.appendChild(progress);\n      document.body.appendChild(div);\n\n      const buffers = [];\n      let downloaded = 0;\n\n      const channel = await google.colab.kernel.comms.open(id);\n      // Send a message to notify the kernel that we're ready.\n      channel.send({})\n\n      for await (const message of channel.messages) {\n        // Send a message to notify the kernel that we're ready.\n        channel.send({})\n        if (message.buffers) {\n          for (const buffer of message.buffers) {\n            buffers.push(buffer);\n            downloaded += buffer.byteLength;\n            progress.value = downloaded;\n          }\n        }\n      }\n      const blob = new Blob(buffers, {type: 'application/binary'});\n      const a = document.createElement('a');\n      a.href = window.URL.createObjectURL(blob);\n      a.download = filename;\n      div.appendChild(a);\n      a.click();\n      div.remove();\n    }\n  ",
            "text/plain": [
              "<IPython.core.display.Javascript object>"
            ]
          },
          "metadata": {},
          "output_type": "display_data"
        },
        {
          "data": {
            "application/javascript": "download(\"download_b02b1c21-c961-4293-9088-8514603271ba\", \"models.zip\", 799210199)",
            "text/plain": [
              "<IPython.core.display.Javascript object>"
            ]
          },
          "metadata": {},
          "output_type": "display_data"
        }
      ],
      "source": [
        "files.download('models.zip')"
      ]
    },
    {
      "cell_type": "markdown",
      "id": "38ed7f66",
      "metadata": {},
      "source": [
        "## 1.2 Save The Model To Hugging Face"
      ]
    },
    {
      "cell_type": "code",
      "execution_count": null,
      "id": "c0890d69",
      "metadata": {},
      "outputs": [],
      "source": [
        "from huggingface_hub import HfApi, login\n",
        "\n",
        "# set up login\n",
        "login()\n",
        "\n",
        "# Define your model repository name (create this on the HF website first)\n",
        "model_name = \"keanteng/bert-ner-wqd7005\"  # Replace with your desired repo name"
      ]
    },
    {
      "cell_type": "code",
      "execution_count": null,
      "id": "a3d7e560",
      "metadata": {},
      "outputs": [],
      "source": [
        "# Push the model to Hugging Face Hub\n",
        "api = HfApi()\n",
        "api.upload_folder(\n",
        "    folder_path=f\"models/bert_ner_best\",\n",
        "    repo_id=model_name,\n",
        "    repo_type=\"model\"\n",
        ")"
      ]
    },
    {
      "cell_type": "code",
      "execution_count": null,
      "id": "b67e4cdf",
      "metadata": {},
      "outputs": [],
      "source": [
        "api.upload_folder(\n",
        "    folder_path=f\"models/bert_ner_eval\",\n",
        "    repo_id=model_name,\n",
        "    repo_type=\"model\",\n",
        "    path_in_repo=\"evaluation\"\n",
        ")"
      ]
    },
    {
      "cell_type": "code",
      "execution_count": null,
      "id": "824e0420",
      "metadata": {},
      "outputs": [],
      "source": [
        "api.upload_folder(\n",
        "    folder_path=f\"models/bert_ner_final\",\n",
        "    repo_id=model_name,\n",
        "    repo_type=\"model\",\n",
        "    path_in_repo=\"final_model\"\n",
        ")"
      ]
    },
    {
      "cell_type": "markdown",
      "id": "6f56d0c2",
      "metadata": {},
      "source": [
        "Write model card information to the model card file. This will allow us to save the model to Hugging Face."
      ]
    },
    {
      "cell_type": "code",
      "execution_count": null,
      "id": "c671b76d",
      "metadata": {},
      "outputs": [],
      "source": [
        "# Add a model card with description\n",
        "with open(f\"README.md\", \"w\") as f:\n",
        "    f.write(\"\"\"---\n",
        "license: agpl-3.0\n",
        "language:\n",
        "- en\n",
        "base_model:\n",
        "- emilyalsentzer/Bio_ClinicalBERT\n",
        "pipeline_tag: token-classification\n",
        "library_name: transformers\n",
        "tags:\n",
        "- named-entity-recognition\n",
        "- ner\n",
        "- medical\n",
        "- disease-extraction\n",
        "- healthcare\n",
        "- bert\n",
        "- clinical-bert\n",
        "- fine-tuned\n",
        "- pytorch\n",
        "- bio-tagging\n",
        "datasets:\n",
        "- custom\n",
        "widget:\n",
        "- text: \"Patient has a history of hypertension and type 2 diabetes.\"\n",
        "  example_title: \"Medical History Example\"\n",
        "\n",
        "---\n",
        "\n",
        "# BERT for Medical Named Entity Recognition (Disease Extraction)\n",
        "\n",
        "## Model Description\n",
        "\n",
        "This model is a fine-tuned version of [emilyalsentzer/Bio_ClinicalBERT](https://huggingface.co/emilyalsentzer/Bio_ClinicalBERT) for Named Entity Recognition (NER) specifically designed to extract disease names from medical text. The model uses BIO tagging schema to identify and classify disease entities in clinical narratives.\n",
        "\n",
        "## Model Details\n",
        "\n",
        "- **Base Model**: emilyalsentzer/Bio_ClinicalBERT\n",
        "- **Task**: Token Classification (Named Entity Recognition)\n",
        "- **Domain**: Medical/Healthcare\n",
        "- **Target Entities**: Diseases\n",
        "- **Tagging Schema**: BIO (Beginning-Inside-Outside)\n",
        "- **Labels**: \n",
        "  - `O`: Outside (not a disease entity)\n",
        "  - `B-DISEASE`: Beginning of a disease entity\n",
        "  - `I-DISEASE`: Inside/continuation of a disease entity\n",
        "\n",
        "## Training Details\n",
        "\n",
        "- **Training Epochs**: 50\n",
        "- **Batch Size**: 16\n",
        "- **Learning Rate**: 2e-5\n",
        "- **Optimizer**: AdamW\n",
        "- **Scheduler**: Linear schedule with warmup\n",
        "- **Max Sequence Length**: 128 tokens\n",
        "- **Train/Validation Split**: 80/20\n",
        "\n",
        "## Performance Metrics\n",
        "\n",
        "The model achieved the following performance on the validation set:\n",
        "- **Accuracy**: [Will be filled with actual values]\n",
        "- **Precision**: [Will be filled with actual values] \n",
        "- **Recall**: [Will be filled with actual values]\n",
        "- **F1 Score**: [Will be filled with actual values]\n",
        "- **AUC**: [Will be filled with actual values]\n",
        "\n",
        "## Usage\n",
        "\n",
        "### Quick Start\n",
        "\n",
        "```python\n",
        "from transformers import AutoTokenizer, AutoModelForTokenClassification\n",
        "import torch\n",
        "import nltk\n",
        "\n",
        "# Load model and tokenizer\n",
        "model_name = \"keanteng/bert-sentiment-wqd7007\"\n",
        "tokenizer = AutoTokenizer.from_pretrained(model_name)\n",
        "model = AutoModelForTokenClassification.from_pretrained(model_name)\n",
        "\n",
        "# Example text\n",
        "text = \"Patient has a history of hypertension and type 2 diabetes.\"\n",
        "\n",
        "# Tokenize\n",
        "tokens = nltk.word_tokenize(text)\n",
        "inputs = tokenizer(tokens, is_split_into_words=True, return_tensors=\"pt\", padding=True, truncation=True)\n",
        "\n",
        "# Predict\n",
        "with torch.no_grad():\n",
        "    outputs = model(**inputs)\n",
        "    predictions = torch.argmax(outputs.logits, dim=2)\n",
        "\n",
        "# Map predictions to labels\n",
        "id2label = {0: 'O', 1: 'B-DISEASE', 2: 'I-DISEASE'}\n",
        "predicted_labels = [id2label[pred.item()] for pred in predictions[0]]\n",
        "\n",
        "# Extract diseases\n",
        "diseases = []\n",
        "current_disease = []\n",
        "word_ids = inputs.word_ids()\n",
        "\n",
        "for i, (word_idx, label) in enumerate(zip(word_ids, predicted_labels)):\n",
        "    if word_idx is not None and word_idx < len(tokens):\n",
        "        if label == 'B-DISEASE':\n",
        "            if current_disease:\n",
        "                diseases.append(' '.join(current_disease))\n",
        "                current_disease = []\n",
        "            current_disease.append(tokens[word_idx])\n",
        "        elif label == 'I-DISEASE' and current_disease:\n",
        "            current_disease.append(tokens[word_idx])\n",
        "        elif current_disease:\n",
        "            diseases.append(' '.join(current_disease))\n",
        "            current_disease = []\n",
        "\n",
        "if current_disease:\n",
        "    diseases.append(' '.join(current_disease))\n",
        "\n",
        "print(f\"Extracted diseases: {diseases}\")\n",
        "```\n",
        "\n",
        "### Using the Prediction Function\n",
        "\n",
        "```python\n",
        "def predict_diseases(text, model, tokenizer):\n",
        "    import nltk\n",
        "    \n",
        "    # Tokenize the text\n",
        "    tokens = nltk.word_tokenize(text)\n",
        "    token_tags = [(token, 'O') for token in tokens]\n",
        "    \n",
        "    # Prepare BERT input\n",
        "    inputs = tokenizer(tokens, is_split_into_words=True, return_tensors=\"pt\", \n",
        "                      padding=True, truncation=True, max_length=128)\n",
        "    \n",
        "    # Get predictions\n",
        "    with torch.no_grad():\n",
        "        outputs = model(**inputs)\n",
        "        predictions = torch.argmax(outputs.logits, dim=2).squeeze(0).numpy()\n",
        "    \n",
        "    # Map predictions to labels\n",
        "    id2tag = {0: 'O', 1: 'B-DISEASE', 2: 'I-DISEASE'}\n",
        "    \n",
        "    # Extract diseases\n",
        "    diseases = []\n",
        "    current_disease = []\n",
        "    word_ids = inputs.word_ids()\n",
        "    \n",
        "    for i, word_idx in enumerate(word_ids):\n",
        "        if word_idx is not None and i < len(predictions):\n",
        "            prediction = id2tag[predictions[i]]\n",
        "            if word_idx < len(tokens):\n",
        "                if prediction == 'B-DISEASE':\n",
        "                    if current_disease:\n",
        "                        diseases.append(' '.join(current_disease))\n",
        "                        current_disease = []\n",
        "                    current_disease.append(tokens[word_idx])\n",
        "                elif prediction == 'I-DISEASE' and current_disease:\n",
        "                    current_disease.append(tokens[word_idx])\n",
        "                elif current_disease:\n",
        "                    diseases.append(' '.join(current_disease))\n",
        "                    current_disease = []\n",
        "    \n",
        "    if current_disease:\n",
        "        diseases.append(' '.join(current_disease))\n",
        "    \n",
        "    return diseases\n",
        "\n",
        "# Example usage\n",
        "text = \"Patient diagnosed with hypertension, diabetes mellitus, and chronic kidney disease.\"\n",
        "diseases = predict_diseases(text, model, tokenizer)\n",
        "print(f\"Extracted diseases: {diseases}\")\n",
        "```\n",
        "\n",
        "## Training Data\n",
        "\n",
        "The model was trained on a custom dataset of medical patient records containing:\n",
        "- Medical history narratives\n",
        "- Manually extracted disease entities\n",
        "- BIO-tagged training examples\n",
        "\n",
        "## Limitations\n",
        "\n",
        "- The model is specifically trained for disease entity extraction\n",
        "- Performance may vary on medical texts from different domains or institutions\n",
        "- May not capture very rare or newly named diseases not seen during training\n",
        "- Limited to English language medical texts\n",
        "\n",
        "## Ethical Considerations\n",
        "\n",
        "- This model is intended for research and educational purposes\n",
        "- Should not be used as a substitute for professional medical diagnosis\n",
        "- Patient privacy and data protection must be ensured when using this model\n",
        "- Results should be validated by medical professionals\n",
        "\"\"\")"
      ]
    },
    {
      "cell_type": "code",
      "execution_count": null,
      "id": "6d920cb8",
      "metadata": {},
      "outputs": [],
      "source": [
        "api.upload_file(\n",
        "    path_or_fileobj=f\"README.md\",\n",
        "    path_in_repo=\"README.md\",\n",
        "    repo_id=model_name,\n",
        "    repo_type=\"model\"\n",
        ")"
      ]
    },
    {
      "cell_type": "code",
      "execution_count": null,
      "id": "fb639cb4",
      "metadata": {},
      "outputs": [],
      "source": [
        "api.upload_folder(\n",
        "    folder_path=f\"images\",\n",
        "    repo_id=f\"{model_name}\",\n",
        "    repo_type=\"model\",\n",
        "    path_in_repo=\"images/entity_name_recognition\"\n",
        ")"
      ]
    }
  ],
  "metadata": {
    "accelerator": "GPU",
    "colab": {
      "gpuType": "A100",
      "machine_shape": "hm",
      "provenance": []
    },
    "kernelspec": {
      "display_name": "Python 3",
      "name": "python3"
    },
    "language_info": {
      "codemirror_mode": {
        "name": "ipython",
        "version": 3
      },
      "file_extension": ".py",
      "mimetype": "text/x-python",
      "name": "python",
      "nbconvert_exporter": "python",
      "pygments_lexer": "ipython3",
      "version": "3.12.7"
    },
    "widgets": {
      "application/vnd.jupyter.widget-state+json": {
        "0b6d054d41344a1d801af6744ef6cda8": {
          "model_module": "@jupyter-widgets/controls",
          "model_module_version": "1.5.0",
          "model_name": "FloatProgressModel",
          "state": {
            "_dom_classes": [],
            "_model_module": "@jupyter-widgets/controls",
            "_model_module_version": "1.5.0",
            "_model_name": "FloatProgressModel",
            "_view_count": null,
            "_view_module": "@jupyter-widgets/controls",
            "_view_module_version": "1.5.0",
            "_view_name": "ProgressView",
            "bar_style": "success",
            "description": "",
            "description_tooltip": null,
            "layout": "IPY_MODEL_3303129268fc40c58b74915259ef9846",
            "max": 385,
            "min": 0,
            "orientation": "horizontal",
            "style": "IPY_MODEL_41bf2de12ee74d89bdf094b884cea90b",
            "value": 385
          }
        },
        "0bf8e66f4715404a966fbc7d055f1cd8": {
          "model_module": "@jupyter-widgets/controls",
          "model_module_version": "1.5.0",
          "model_name": "DescriptionStyleModel",
          "state": {
            "_model_module": "@jupyter-widgets/controls",
            "_model_module_version": "1.5.0",
            "_model_name": "DescriptionStyleModel",
            "_view_count": null,
            "_view_module": "@jupyter-widgets/base",
            "_view_module_version": "1.2.0",
            "_view_name": "StyleView",
            "description_width": ""
          }
        },
        "0e8f6469df934e95b468e486029bae5e": {
          "model_module": "@jupyter-widgets/base",
          "model_module_version": "1.2.0",
          "model_name": "LayoutModel",
          "state": {
            "_model_module": "@jupyter-widgets/base",
            "_model_module_version": "1.2.0",
            "_model_name": "LayoutModel",
            "_view_count": null,
            "_view_module": "@jupyter-widgets/base",
            "_view_module_version": "1.2.0",
            "_view_name": "LayoutView",
            "align_content": null,
            "align_items": null,
            "align_self": null,
            "border": null,
            "bottom": null,
            "display": null,
            "flex": null,
            "flex_flow": null,
            "grid_area": null,
            "grid_auto_columns": null,
            "grid_auto_flow": null,
            "grid_auto_rows": null,
            "grid_column": null,
            "grid_gap": null,
            "grid_row": null,
            "grid_template_areas": null,
            "grid_template_columns": null,
            "grid_template_rows": null,
            "height": null,
            "justify_content": null,
            "justify_items": null,
            "left": null,
            "margin": null,
            "max_height": null,
            "max_width": null,
            "min_height": null,
            "min_width": null,
            "object_fit": null,
            "object_position": null,
            "order": null,
            "overflow": null,
            "overflow_x": null,
            "overflow_y": null,
            "padding": null,
            "right": null,
            "top": null,
            "visibility": null,
            "width": null
          }
        },
        "3303129268fc40c58b74915259ef9846": {
          "model_module": "@jupyter-widgets/base",
          "model_module_version": "1.2.0",
          "model_name": "LayoutModel",
          "state": {
            "_model_module": "@jupyter-widgets/base",
            "_model_module_version": "1.2.0",
            "_model_name": "LayoutModel",
            "_view_count": null,
            "_view_module": "@jupyter-widgets/base",
            "_view_module_version": "1.2.0",
            "_view_name": "LayoutView",
            "align_content": null,
            "align_items": null,
            "align_self": null,
            "border": null,
            "bottom": null,
            "display": null,
            "flex": null,
            "flex_flow": null,
            "grid_area": null,
            "grid_auto_columns": null,
            "grid_auto_flow": null,
            "grid_auto_rows": null,
            "grid_column": null,
            "grid_gap": null,
            "grid_row": null,
            "grid_template_areas": null,
            "grid_template_columns": null,
            "grid_template_rows": null,
            "height": null,
            "justify_content": null,
            "justify_items": null,
            "left": null,
            "margin": null,
            "max_height": null,
            "max_width": null,
            "min_height": null,
            "min_width": null,
            "object_fit": null,
            "object_position": null,
            "order": null,
            "overflow": null,
            "overflow_x": null,
            "overflow_y": null,
            "padding": null,
            "right": null,
            "top": null,
            "visibility": null,
            "width": null
          }
        },
        "3852aa96dcac4734afec87f9e57b2edc": {
          "model_module": "@jupyter-widgets/base",
          "model_module_version": "1.2.0",
          "model_name": "LayoutModel",
          "state": {
            "_model_module": "@jupyter-widgets/base",
            "_model_module_version": "1.2.0",
            "_model_name": "LayoutModel",
            "_view_count": null,
            "_view_module": "@jupyter-widgets/base",
            "_view_module_version": "1.2.0",
            "_view_name": "LayoutView",
            "align_content": null,
            "align_items": null,
            "align_self": null,
            "border": null,
            "bottom": null,
            "display": null,
            "flex": null,
            "flex_flow": null,
            "grid_area": null,
            "grid_auto_columns": null,
            "grid_auto_flow": null,
            "grid_auto_rows": null,
            "grid_column": null,
            "grid_gap": null,
            "grid_row": null,
            "grid_template_areas": null,
            "grid_template_columns": null,
            "grid_template_rows": null,
            "height": null,
            "justify_content": null,
            "justify_items": null,
            "left": null,
            "margin": null,
            "max_height": null,
            "max_width": null,
            "min_height": null,
            "min_width": null,
            "object_fit": null,
            "object_position": null,
            "order": null,
            "overflow": null,
            "overflow_x": null,
            "overflow_y": null,
            "padding": null,
            "right": null,
            "top": null,
            "visibility": null,
            "width": null
          }
        },
        "41bf2de12ee74d89bdf094b884cea90b": {
          "model_module": "@jupyter-widgets/controls",
          "model_module_version": "1.5.0",
          "model_name": "ProgressStyleModel",
          "state": {
            "_model_module": "@jupyter-widgets/controls",
            "_model_module_version": "1.5.0",
            "_model_name": "ProgressStyleModel",
            "_view_count": null,
            "_view_module": "@jupyter-widgets/base",
            "_view_module_version": "1.2.0",
            "_view_name": "StyleView",
            "bar_color": null,
            "description_width": ""
          }
        },
        "4e9dabd54dfa43c1a0441408667ffc39": {
          "model_module": "@jupyter-widgets/controls",
          "model_module_version": "1.5.0",
          "model_name": "DescriptionStyleModel",
          "state": {
            "_model_module": "@jupyter-widgets/controls",
            "_model_module_version": "1.5.0",
            "_model_name": "DescriptionStyleModel",
            "_view_count": null,
            "_view_module": "@jupyter-widgets/base",
            "_view_module_version": "1.2.0",
            "_view_name": "StyleView",
            "description_width": ""
          }
        },
        "6ab09d92213544d89341074e8f3bb114": {
          "model_module": "@jupyter-widgets/controls",
          "model_module_version": "1.5.0",
          "model_name": "DescriptionStyleModel",
          "state": {
            "_model_module": "@jupyter-widgets/controls",
            "_model_module_version": "1.5.0",
            "_model_name": "DescriptionStyleModel",
            "_view_count": null,
            "_view_module": "@jupyter-widgets/base",
            "_view_module_version": "1.2.0",
            "_view_name": "StyleView",
            "description_width": ""
          }
        },
        "77ebb8528565414a9a47b1aadd15f0c5": {
          "model_module": "@jupyter-widgets/base",
          "model_module_version": "1.2.0",
          "model_name": "LayoutModel",
          "state": {
            "_model_module": "@jupyter-widgets/base",
            "_model_module_version": "1.2.0",
            "_model_name": "LayoutModel",
            "_view_count": null,
            "_view_module": "@jupyter-widgets/base",
            "_view_module_version": "1.2.0",
            "_view_name": "LayoutView",
            "align_content": null,
            "align_items": null,
            "align_self": null,
            "border": null,
            "bottom": null,
            "display": null,
            "flex": null,
            "flex_flow": null,
            "grid_area": null,
            "grid_auto_columns": null,
            "grid_auto_flow": null,
            "grid_auto_rows": null,
            "grid_column": null,
            "grid_gap": null,
            "grid_row": null,
            "grid_template_areas": null,
            "grid_template_columns": null,
            "grid_template_rows": null,
            "height": null,
            "justify_content": null,
            "justify_items": null,
            "left": null,
            "margin": null,
            "max_height": null,
            "max_width": null,
            "min_height": null,
            "min_width": null,
            "object_fit": null,
            "object_position": null,
            "order": null,
            "overflow": null,
            "overflow_x": null,
            "overflow_y": null,
            "padding": null,
            "right": null,
            "top": null,
            "visibility": null,
            "width": null
          }
        },
        "8c76f384022843618f71ad7f7fba445f": {
          "model_module": "@jupyter-widgets/controls",
          "model_module_version": "1.5.0",
          "model_name": "HTMLModel",
          "state": {
            "_dom_classes": [],
            "_model_module": "@jupyter-widgets/controls",
            "_model_module_version": "1.5.0",
            "_model_name": "HTMLModel",
            "_view_count": null,
            "_view_module": "@jupyter-widgets/controls",
            "_view_module_version": "1.5.0",
            "_view_name": "HTMLView",
            "description": "",
            "description_tooltip": null,
            "layout": "IPY_MODEL_3852aa96dcac4734afec87f9e57b2edc",
            "placeholder": "​",
            "style": "IPY_MODEL_cb1d09319abe4f9b85fd56bbbdcb722c",
            "value": "vocab.txt: 100%"
          }
        },
        "94764263c77e45ffbee21018fa262932": {
          "model_module": "@jupyter-widgets/controls",
          "model_module_version": "1.5.0",
          "model_name": "HBoxModel",
          "state": {
            "_dom_classes": [],
            "_model_module": "@jupyter-widgets/controls",
            "_model_module_version": "1.5.0",
            "_model_name": "HBoxModel",
            "_view_count": null,
            "_view_module": "@jupyter-widgets/controls",
            "_view_module_version": "1.5.0",
            "_view_name": "HBoxView",
            "box_style": "",
            "children": [
              "IPY_MODEL_8c76f384022843618f71ad7f7fba445f",
              "IPY_MODEL_ce5571676d7746cfb62db1d521a045a9",
              "IPY_MODEL_bdae0e7088f94983a35d107207448bdf"
            ],
            "layout": "IPY_MODEL_0e8f6469df934e95b468e486029bae5e"
          }
        },
        "a37767fa38734ffea3922d7b32fd0244": {
          "model_module": "@jupyter-widgets/controls",
          "model_module_version": "1.5.0",
          "model_name": "ProgressStyleModel",
          "state": {
            "_model_module": "@jupyter-widgets/controls",
            "_model_module_version": "1.5.0",
            "_model_name": "ProgressStyleModel",
            "_view_count": null,
            "_view_module": "@jupyter-widgets/base",
            "_view_module_version": "1.2.0",
            "_view_name": "StyleView",
            "bar_color": null,
            "description_width": ""
          }
        },
        "a56b0ec58d32415099af3ce21b888c25": {
          "model_module": "@jupyter-widgets/controls",
          "model_module_version": "1.5.0",
          "model_name": "HBoxModel",
          "state": {
            "_dom_classes": [],
            "_model_module": "@jupyter-widgets/controls",
            "_model_module_version": "1.5.0",
            "_model_name": "HBoxModel",
            "_view_count": null,
            "_view_module": "@jupyter-widgets/controls",
            "_view_module_version": "1.5.0",
            "_view_name": "HBoxView",
            "box_style": "",
            "children": [
              "IPY_MODEL_ef708295044e41db84deaab753ed3c53",
              "IPY_MODEL_0b6d054d41344a1d801af6744ef6cda8",
              "IPY_MODEL_d9678a2522a64799b89ac6ab2c4bb367"
            ],
            "layout": "IPY_MODEL_77ebb8528565414a9a47b1aadd15f0c5"
          }
        },
        "bdae0e7088f94983a35d107207448bdf": {
          "model_module": "@jupyter-widgets/controls",
          "model_module_version": "1.5.0",
          "model_name": "HTMLModel",
          "state": {
            "_dom_classes": [],
            "_model_module": "@jupyter-widgets/controls",
            "_model_module_version": "1.5.0",
            "_model_name": "HTMLModel",
            "_view_count": null,
            "_view_module": "@jupyter-widgets/controls",
            "_view_module_version": "1.5.0",
            "_view_name": "HTMLView",
            "description": "",
            "description_tooltip": null,
            "layout": "IPY_MODEL_c69c6d609f334de0a79baf3247c6762c",
            "placeholder": "​",
            "style": "IPY_MODEL_0bf8e66f4715404a966fbc7d055f1cd8",
            "value": " 213k/213k [00:00&lt;00:00, 945kB/s]"
          }
        },
        "c69c6d609f334de0a79baf3247c6762c": {
          "model_module": "@jupyter-widgets/base",
          "model_module_version": "1.2.0",
          "model_name": "LayoutModel",
          "state": {
            "_model_module": "@jupyter-widgets/base",
            "_model_module_version": "1.2.0",
            "_model_name": "LayoutModel",
            "_view_count": null,
            "_view_module": "@jupyter-widgets/base",
            "_view_module_version": "1.2.0",
            "_view_name": "LayoutView",
            "align_content": null,
            "align_items": null,
            "align_self": null,
            "border": null,
            "bottom": null,
            "display": null,
            "flex": null,
            "flex_flow": null,
            "grid_area": null,
            "grid_auto_columns": null,
            "grid_auto_flow": null,
            "grid_auto_rows": null,
            "grid_column": null,
            "grid_gap": null,
            "grid_row": null,
            "grid_template_areas": null,
            "grid_template_columns": null,
            "grid_template_rows": null,
            "height": null,
            "justify_content": null,
            "justify_items": null,
            "left": null,
            "margin": null,
            "max_height": null,
            "max_width": null,
            "min_height": null,
            "min_width": null,
            "object_fit": null,
            "object_position": null,
            "order": null,
            "overflow": null,
            "overflow_x": null,
            "overflow_y": null,
            "padding": null,
            "right": null,
            "top": null,
            "visibility": null,
            "width": null
          }
        },
        "ca6311fcef3c493db1fd5cf599b073ec": {
          "model_module": "@jupyter-widgets/base",
          "model_module_version": "1.2.0",
          "model_name": "LayoutModel",
          "state": {
            "_model_module": "@jupyter-widgets/base",
            "_model_module_version": "1.2.0",
            "_model_name": "LayoutModel",
            "_view_count": null,
            "_view_module": "@jupyter-widgets/base",
            "_view_module_version": "1.2.0",
            "_view_name": "LayoutView",
            "align_content": null,
            "align_items": null,
            "align_self": null,
            "border": null,
            "bottom": null,
            "display": null,
            "flex": null,
            "flex_flow": null,
            "grid_area": null,
            "grid_auto_columns": null,
            "grid_auto_flow": null,
            "grid_auto_rows": null,
            "grid_column": null,
            "grid_gap": null,
            "grid_row": null,
            "grid_template_areas": null,
            "grid_template_columns": null,
            "grid_template_rows": null,
            "height": null,
            "justify_content": null,
            "justify_items": null,
            "left": null,
            "margin": null,
            "max_height": null,
            "max_width": null,
            "min_height": null,
            "min_width": null,
            "object_fit": null,
            "object_position": null,
            "order": null,
            "overflow": null,
            "overflow_x": null,
            "overflow_y": null,
            "padding": null,
            "right": null,
            "top": null,
            "visibility": null,
            "width": null
          }
        },
        "cb1d09319abe4f9b85fd56bbbdcb722c": {
          "model_module": "@jupyter-widgets/controls",
          "model_module_version": "1.5.0",
          "model_name": "DescriptionStyleModel",
          "state": {
            "_model_module": "@jupyter-widgets/controls",
            "_model_module_version": "1.5.0",
            "_model_name": "DescriptionStyleModel",
            "_view_count": null,
            "_view_module": "@jupyter-widgets/base",
            "_view_module_version": "1.2.0",
            "_view_name": "StyleView",
            "description_width": ""
          }
        },
        "cbae60f8e4fb4a1ea946223d0d134262": {
          "model_module": "@jupyter-widgets/base",
          "model_module_version": "1.2.0",
          "model_name": "LayoutModel",
          "state": {
            "_model_module": "@jupyter-widgets/base",
            "_model_module_version": "1.2.0",
            "_model_name": "LayoutModel",
            "_view_count": null,
            "_view_module": "@jupyter-widgets/base",
            "_view_module_version": "1.2.0",
            "_view_name": "LayoutView",
            "align_content": null,
            "align_items": null,
            "align_self": null,
            "border": null,
            "bottom": null,
            "display": null,
            "flex": null,
            "flex_flow": null,
            "grid_area": null,
            "grid_auto_columns": null,
            "grid_auto_flow": null,
            "grid_auto_rows": null,
            "grid_column": null,
            "grid_gap": null,
            "grid_row": null,
            "grid_template_areas": null,
            "grid_template_columns": null,
            "grid_template_rows": null,
            "height": null,
            "justify_content": null,
            "justify_items": null,
            "left": null,
            "margin": null,
            "max_height": null,
            "max_width": null,
            "min_height": null,
            "min_width": null,
            "object_fit": null,
            "object_position": null,
            "order": null,
            "overflow": null,
            "overflow_x": null,
            "overflow_y": null,
            "padding": null,
            "right": null,
            "top": null,
            "visibility": null,
            "width": null
          }
        },
        "ce5571676d7746cfb62db1d521a045a9": {
          "model_module": "@jupyter-widgets/controls",
          "model_module_version": "1.5.0",
          "model_name": "FloatProgressModel",
          "state": {
            "_dom_classes": [],
            "_model_module": "@jupyter-widgets/controls",
            "_model_module_version": "1.5.0",
            "_model_name": "FloatProgressModel",
            "_view_count": null,
            "_view_module": "@jupyter-widgets/controls",
            "_view_module_version": "1.5.0",
            "_view_name": "ProgressView",
            "bar_style": "success",
            "description": "",
            "description_tooltip": null,
            "layout": "IPY_MODEL_cbae60f8e4fb4a1ea946223d0d134262",
            "max": 213450,
            "min": 0,
            "orientation": "horizontal",
            "style": "IPY_MODEL_a37767fa38734ffea3922d7b32fd0244",
            "value": 213450
          }
        },
        "d9678a2522a64799b89ac6ab2c4bb367": {
          "model_module": "@jupyter-widgets/controls",
          "model_module_version": "1.5.0",
          "model_name": "HTMLModel",
          "state": {
            "_dom_classes": [],
            "_model_module": "@jupyter-widgets/controls",
            "_model_module_version": "1.5.0",
            "_model_name": "HTMLModel",
            "_view_count": null,
            "_view_module": "@jupyter-widgets/controls",
            "_view_module_version": "1.5.0",
            "_view_name": "HTMLView",
            "description": "",
            "description_tooltip": null,
            "layout": "IPY_MODEL_dcc6eb4196d14e89aafa22c67eeae401",
            "placeholder": "​",
            "style": "IPY_MODEL_4e9dabd54dfa43c1a0441408667ffc39",
            "value": " 385/385 [00:00&lt;00:00, 45.1kB/s]"
          }
        },
        "dcc6eb4196d14e89aafa22c67eeae401": {
          "model_module": "@jupyter-widgets/base",
          "model_module_version": "1.2.0",
          "model_name": "LayoutModel",
          "state": {
            "_model_module": "@jupyter-widgets/base",
            "_model_module_version": "1.2.0",
            "_model_name": "LayoutModel",
            "_view_count": null,
            "_view_module": "@jupyter-widgets/base",
            "_view_module_version": "1.2.0",
            "_view_name": "LayoutView",
            "align_content": null,
            "align_items": null,
            "align_self": null,
            "border": null,
            "bottom": null,
            "display": null,
            "flex": null,
            "flex_flow": null,
            "grid_area": null,
            "grid_auto_columns": null,
            "grid_auto_flow": null,
            "grid_auto_rows": null,
            "grid_column": null,
            "grid_gap": null,
            "grid_row": null,
            "grid_template_areas": null,
            "grid_template_columns": null,
            "grid_template_rows": null,
            "height": null,
            "justify_content": null,
            "justify_items": null,
            "left": null,
            "margin": null,
            "max_height": null,
            "max_width": null,
            "min_height": null,
            "min_width": null,
            "object_fit": null,
            "object_position": null,
            "order": null,
            "overflow": null,
            "overflow_x": null,
            "overflow_y": null,
            "padding": null,
            "right": null,
            "top": null,
            "visibility": null,
            "width": null
          }
        },
        "ef708295044e41db84deaab753ed3c53": {
          "model_module": "@jupyter-widgets/controls",
          "model_module_version": "1.5.0",
          "model_name": "HTMLModel",
          "state": {
            "_dom_classes": [],
            "_model_module": "@jupyter-widgets/controls",
            "_model_module_version": "1.5.0",
            "_model_name": "HTMLModel",
            "_view_count": null,
            "_view_module": "@jupyter-widgets/controls",
            "_view_module_version": "1.5.0",
            "_view_name": "HTMLView",
            "description": "",
            "description_tooltip": null,
            "layout": "IPY_MODEL_ca6311fcef3c493db1fd5cf599b073ec",
            "placeholder": "​",
            "style": "IPY_MODEL_6ab09d92213544d89341074e8f3bb114",
            "value": "config.json: 100%"
          }
        }
      }
    }
  },
  "nbformat": 4,
  "nbformat_minor": 5
}
