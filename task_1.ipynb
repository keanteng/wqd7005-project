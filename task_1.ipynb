{
 "cells": [
  {
   "cell_type": "markdown",
   "id": "7a093187",
   "metadata": {},
   "source": [
    "# Part 1 - Data Simulation & Feature Engineering\n",
    "\n",
    "## Assignment Details\n",
    "- Author: Khor Kean Teng\n",
    "- Date: May 20, 2025\n",
    "- Model: Gemini 2.5 Flash Preview 0417\n",
    "\n",
    "## Deliverables\n",
    "- Utilize GenAI to generate realistic patient data, including vital signs and detailed textual questionnaire responses. \n",
    "- Apply LLMs to extract meaningful features from simulated textual data (clinical notes, health records). "
   ]
  },
  {
   "cell_type": "markdown",
   "id": "d646fd59",
   "metadata": {},
   "source": [
    "## API & Model Configuration"
   ]
  },
  {
   "cell_type": "code",
   "execution_count": null,
   "id": "5a0ce419",
   "metadata": {},
   "outputs": [],
   "source": [
    "# configure api\n",
    "from dotenv import load_dotenv\n",
    "import os\n",
    "\n",
    "load_dotenv()\n",
    "gemini_api_key = os.getenv(\"GEMINI_API_KEY\")"
   ]
  },
  {
   "cell_type": "markdown",
   "id": "05e8696b",
   "metadata": {},
   "source": [
    "## Prompt Engineering"
   ]
  },
  {
   "cell_type": "code",
   "execution_count": null,
   "id": "de218ef9",
   "metadata": {},
   "outputs": [],
   "source": [
    "from google import genai\n",
    "from google.genai import types\n",
    "\n",
    "client = genai.Client(api_key=gemini_api_key)\n",
    "\n",
    "model = [\n",
    "    \"gemini-2.5-flash-preview-04-17\"\n",
    "]\n",
    "\n",
    "generate_content_config = types.GenerateContentConfig(\n",
    "    response_mime_type=\"application/json\",\n",
    ")"
   ]
  }
 ],
 "metadata": {
  "kernelspec": {
   "display_name": "Python 3",
   "language": "python",
   "name": "python3"
  },
  "language_info": {
   "name": "python",
   "version": "3.12.7"
  }
 },
 "nbformat": 4,
 "nbformat_minor": 5
}
